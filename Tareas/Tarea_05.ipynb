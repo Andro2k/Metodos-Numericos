{
  "nbformat": 4,
  "nbformat_minor": 0,
  "metadata": {
    "colab": {
      "provenance": [],
      "authorship_tag": "ABX9TyPKMwlqWvtd9iv9aXpelke4",
      "include_colab_link": true
    },
    "kernelspec": {
      "name": "python3",
      "display_name": "Python 3"
    },
    "language_info": {
      "name": "python"
    }
  },
  "cells": [
    {
      "cell_type": "markdown",
      "metadata": {
        "id": "view-in-github",
        "colab_type": "text"
      },
      "source": [
        "<a href=\"https://colab.research.google.com/github/Andro2k/Metodos-Numericos/blob/main/Tarea_05.ipynb\" target=\"_parent\"><img src=\"https://colab.research.google.com/assets/colab-badge.svg\" alt=\"Open In Colab\"/></a>"
      ]
    },
    {
      "cell_type": "markdown",
      "source": [
        "# <a href=\"https://colab.research.google.com/drive/1_1pBOGyrca-FmJtMR6CTuSiaOirjBEln?usp=sharing\">**Tarea 5**</a>\n",
        "* **Estudiante:** Jose Luis Andino\n",
        "* **Materia:** Metodos Numericos\n",
        "* **Carrera:** Computación\n",
        "* **Docente:** Jonathan A. Zea"
      ],
      "metadata": {
        "id": "u9KdcAZqXeeX"
      }
    },
    {
      "cell_type": "markdown",
      "source": [
        "## **Conjunto de Ejercicios**"
      ],
      "metadata": {
        "id": "9I09_8ZKX2Is"
      }
    },
    {
      "cell_type": "markdown",
      "source": [
        "### Ejercicio 1\n",
        "1. Sea $( f(x) = -x^3 - \\cos x )$ y $( p_0 = -1 )$. Use el método de Newton y de la Secante para encontrar $( p_2 )$. ¿Se podría usar $( p_0 = 0 )$?\n"
      ],
      "metadata": {
        "id": "o4SqJjErUrLS"
      }
    },
    {
      "cell_type": "code",
      "execution_count": null,
      "metadata": {
        "colab": {
          "base_uri": "https://localhost:8080/"
        },
        "id": "XYteUpi8TfSt",
        "outputId": "80d8896f-da69-45a7-8937-9cf27ee8aec3"
      },
      "outputs": [
        {
          "output_type": "stream",
          "name": "stdout",
          "text": [
            "p2 usando el método de Newton: -0.8654740331016162\n",
            "p2 usando el método de la Secante: -0.8654740330997166\n"
          ]
        }
      ],
      "source": [
        "import numpy as np\n",
        "\n",
        "# Definir la función f(x) y su derivada f'(x)\n",
        "def f(x):\n",
        "    return -x**3 - np.cos(x)\n",
        "\n",
        "def df(x):\n",
        "    return -3*x**2 + np.sin(x)\n",
        "\n",
        "# Método de Newton\n",
        "def newton_method(p0, tol=1e-6, max_iter=100):\n",
        "    p = p0\n",
        "    for i in range(max_iter):\n",
        "        p_new = p - f(p) / df(p)\n",
        "        if abs(p_new - p) < tol:\n",
        "            return p_new\n",
        "        p = p_new\n",
        "    return p\n",
        "\n",
        "# Método de la Secante\n",
        "def secant_method(p0, p1, tol=1e-6, max_iter=100):\n",
        "    for i in range(max_iter):\n",
        "        if f(p1) - f(p0) == 0:\n",
        "            return None\n",
        "        p2 = p1 - f(p1) * (p1 - p0) / (f(p1) - f(p0))\n",
        "        if abs(p2 - p1) < tol:\n",
        "            return p2\n",
        "        p0, p1 = p1, p2\n",
        "    return p1\n",
        "\n",
        "# Parámetros iniciales\n",
        "p0_newton = -1\n",
        "p0_secant = -1\n",
        "p1_secant = -0.5\n",
        "\n",
        "# Encontrar p2 usando el método de Newton\n",
        "p2_newton = newton_method(p0_newton)\n",
        "print(f\"p2 usando el método de Newton: {p2_newton}\")\n",
        "\n",
        "# Encontrar p2 usando el método de la Secante\n",
        "p2_secant = secant_method(p0_secant, p1_secant)\n",
        "print(f\"p2 usando el método de la Secante: {p2_secant}\")\n"
      ]
    },
    {
      "cell_type": "code",
      "source": [
        "# Verificar f'(0)\n",
        "df0 = df(0)\n",
        "print(f\"f'(0) = {df0}\")\n"
      ],
      "metadata": {
        "colab": {
          "base_uri": "https://localhost:8080/"
        },
        "id": "HFv-6nWbY02W",
        "outputId": "fd7774b7-046e-415a-fc66-86a938c5cb19"
      },
      "execution_count": null,
      "outputs": [
        {
          "output_type": "stream",
          "name": "stdout",
          "text": [
            "f'(0) = 0.0\n"
          ]
        }
      ]
    },
    {
      "cell_type": "markdown",
      "source": [
        "### Ejercicio 2\n",
        "2. Encuentre soluciones precisas dentro de $( 10^{-4} )$ para los siguientes problemas:\n",
        "   - a. $( x^3 - 2x^2 - 5 = 0 )$, $([1, 4])$\n",
        "   - b. $( x^3 + 3x^2 - 1 = 0 )$, $([-3, -2])$\n",
        "   - c. $( x - \\cos x = 0 )$, $([0, \\frac{\\pi}{2}])$\n",
        "   - d. $( x - 0.8 - 0.2 \\sin x = 0 )$, $([0, \\frac{\\pi}{2}])$\n"
      ],
      "metadata": {
        "id": "ob6lmqVlW8qH"
      }
    },
    {
      "cell_type": "code",
      "source": [
        "import numpy as np\n",
        "\n",
        "# Definir las funciones y sus derivadas\n",
        "def f1(x):\n",
        "    return x**3 - 2*x**2 - 5\n",
        "\n",
        "def df1(x):\n",
        "    return 3*x**2 - 4*x\n",
        "\n",
        "def f2(x):\n",
        "    return x**3 + 3*x**2 - 1\n",
        "\n",
        "def df2(x):\n",
        "    return 3*x**2 + 6*x\n",
        "\n",
        "def f3(x):\n",
        "    return x - np.cos(x)\n",
        "\n",
        "def df3(x):\n",
        "    return 1 + np.sin(x)\n",
        "\n",
        "def f4(x):\n",
        "    return x - 0.8 - 0.2 * np.sin(x)\n",
        "\n",
        "def df4(x):\n",
        "    return 1 - 0.2 * np.cos(x)\n",
        "\n",
        "# Método de Newton\n",
        "def newton_method(f, df, p0, tol=1e-4, max_iter=100):\n",
        "    p = p0\n",
        "    for i in range(max_iter):\n",
        "        p_new = p - f(p) / df(p)\n",
        "        if abs(p_new - p) < tol:\n",
        "            return p_new\n",
        "        p = p_new\n",
        "    return p\n",
        "\n",
        "# Método de la Secante\n",
        "def secant_method(f, p0, p1, tol=1e-4, max_iter=100):\n",
        "    for i in range(max_iter):\n",
        "        if f(p1) - f(p0) == 0:\n",
        "            return None\n",
        "        p2 = p1 - f(p1) * (p1 - p0) / (f(p1) - f(p0))\n",
        "        if abs(p2 - p1) < tol:\n",
        "            return p2\n",
        "        p0, p1 = p1, p2\n",
        "    return p1\n",
        "\n",
        "# Resolver cada uno de los problemas\n",
        "\n",
        "# Problema a\n",
        "p0_a = 1\n",
        "p1_a = 4\n",
        "sol_a_newton = newton_method(f1, df1, p0_a)\n",
        "sol_a_secant = secant_method(f1, p0_a, p1_a)\n",
        "print(f\"Solución a usando Newton: {sol_a_newton}\")\n",
        "print(f\"Solución a usando Secante: {sol_a_secant}\")\n",
        "\n",
        "# Problema b\n",
        "p0_b = -3\n",
        "p1_b = -2\n",
        "sol_b_newton = newton_method(f2, df2, p0_b)\n",
        "sol_b_secant = secant_method(f2, p0_b, p1_b)\n",
        "print(f\"Solución b usando Newton: {sol_b_newton}\")\n",
        "print(f\"Solución b usando Secante: {sol_b_secant}\")\n",
        "\n",
        "# Problema c\n",
        "p0_c = 0\n",
        "p1_c = np.pi / 2\n",
        "sol_c_newton = newton_method(f3, df3, p0_c)\n",
        "sol_c_secant = secant_method(f3, p0_c, p1_c)\n",
        "print(f\"Solución c usando Newton: {sol_c_newton}\")\n",
        "print(f\"Solución c usando Secante: {sol_c_secant}\")\n",
        "\n",
        "# Problema d\n",
        "p0_d = 0\n",
        "p1_d = np.pi / 2\n",
        "sol_d_newton = newton_method(f4, df4, p0_d)\n",
        "sol_d_secant = secant_method(f4, p0_d, p1_d)\n",
        "print(f\"Solución d usando Newton: {sol_d_newton}\")\n",
        "print(f\"Solución d usando Secante: {sol_d_secant}\")\n"
      ],
      "metadata": {
        "colab": {
          "base_uri": "https://localhost:8080/"
        },
        "id": "NpnLEWcBZFec",
        "outputId": "08eba3bc-9cf3-4998-c031-0366ce0d0544"
      },
      "execution_count": null,
      "outputs": [
        {
          "output_type": "stream",
          "name": "stdout",
          "text": [
            "Solución a usando Newton: 2.6906474480286287\n",
            "Solución a usando Secante: 2.690647447883773\n",
            "Solución b usando Newton: -2.8793852448366706\n",
            "Solución b usando Secante: -2.879385194736809\n",
            "Solución c usando Newton: 0.739085133385284\n",
            "Solución c usando Secante: 0.739085133034638\n",
            "Solución d usando Newton: 0.9643338876952227\n",
            "Solución d usando Secante: 0.964333884548886\n"
          ]
        }
      ]
    },
    {
      "cell_type": "markdown",
      "source": [
        "### Ejercicio 3\n",
        "3. Use los 2 métodos en esta sección para encontrar las soluciones dentro de $( 10^{-5} )$ para los siguientes problemas:\n",
        "   - a. $( 3x - e^x = 0 )$ para $( 1 \\leq x \\leq 2 )$\n",
        "   - b. $( 2x + 3 \\cos x - e^x = 0 )$ para $( 1 \\leq x \\leq 2 )$"
      ],
      "metadata": {
        "id": "Lf2Zjh-wXN7I"
      }
    },
    {
      "cell_type": "code",
      "source": [
        "import numpy as np\n",
        "\n",
        "# Definir las funciones y sus derivadas\n",
        "def f5(x):\n",
        "    return 3*x - np.exp(x)\n",
        "\n",
        "def df5(x):\n",
        "    return 3 - np.exp(x)\n",
        "\n",
        "def f6(x):\n",
        "    return 2*x + 3*np.cos(x) - np.exp(x)\n",
        "\n",
        "def df6(x):\n",
        "    return 2 - 3*np.sin(x) - np.exp(x)\n",
        "\n",
        "# Método de Newton\n",
        "def newton_method(f, df, p0, tol=1e-5, max_iter=100):\n",
        "    p = p0\n",
        "    for i in range(max_iter):\n",
        "        p_new = p - f(p) / df(p)\n",
        "        if abs(p_new - p) < tol:\n",
        "            return p_new\n",
        "        p = p_new\n",
        "    return p\n",
        "\n",
        "# Método de la Secante\n",
        "def secant_method(f, p0, p1, tol=1e-5, max_iter=100):\n",
        "    for i in range(max_iter):\n",
        "        if f(p1) - f(p0) == 0:\n",
        "            return None\n",
        "        p2 = p1 - f(p1) * (p1 - p0) / (f(p1) - f(p0))\n",
        "        if abs(p2 - p1) < tol:\n",
        "            return p2\n",
        "        p0, p1 = p1, p2\n",
        "    return p1\n",
        "\n",
        "# Resolver cada uno de los problemas\n",
        "\n",
        "# Problema a\n",
        "p0_a = 1\n",
        "p1_a = 2\n",
        "sol_a_newton = newton_method(f5, df5, p0_a)\n",
        "sol_a_secant = secant_method(f5, p0_a, p1_a)\n",
        "print(f\"Solución a usando Newton: {sol_a_newton}\")\n",
        "print(f\"Solución a usando Secante: {sol_a_secant}\")\n",
        "\n",
        "# Problema b\n",
        "p0_b = 1\n",
        "p1_b = 2\n",
        "sol_b_newton = newton_method(f6, df6, p0_b)\n",
        "sol_b_secant = secant_method(f6, p0_b, p1_b)\n",
        "print(f\"Solución b usando Newton: {sol_b_newton}\")\n",
        "print(f\"Solución b usando Secante: {sol_b_secant}\")\n"
      ],
      "metadata": {
        "colab": {
          "base_uri": "https://localhost:8080/"
        },
        "id": "8pEZQCEhZiOx",
        "outputId": "b5279e88-60fc-4f66-d7b8-10e6e9e59bc5"
      },
      "execution_count": null,
      "outputs": [
        {
          "output_type": "stream",
          "name": "stdout",
          "text": [
            "Solución a usando Newton: 0.6190612867359452\n",
            "Solución a usando Secante: 1.5121345517620621\n",
            "Solución b usando Newton: 1.2397146979752596\n",
            "Solución b usando Secante: 1.2397146979752531\n"
          ]
        }
      ]
    },
    {
      "cell_type": "markdown",
      "source": [
        "### Ejercicio 4\n",
        "4. El polinomio de cuarto grado:\n",
        "   $\n",
        "   [f(x) = 230x^4 + 18x^3 + 9x^2 - 221x - 9]\n",
        "   $\n",
        "   tiene dos ceros reales, uno en $([-1, 0])$ y el otro en $([0, 1])$. Intente aproximar estos ceros dentro de $( 10^{-6} )$ con:\n",
        "   - a. El método de la secante (use los extremos como las estimaciones iniciales)\n",
        "   - b. El método de Newton (use el punto medio como estimación inicial)"
      ],
      "metadata": {
        "id": "UDZ-YDYbXTkq"
      }
    },
    {
      "cell_type": "code",
      "source": [
        "import numpy as np\n",
        "\n",
        "# Definir la función y su derivada\n",
        "def f(x):\n",
        "    return 230*x**4 + 18*x**3 + 9*x**2 - 221*x - 9\n",
        "\n",
        "def df(x):\n",
        "    return 920*x**3 + 54*x**2 + 18*x - 221\n",
        "\n",
        "# Método de Newton\n",
        "def newton_method(f, df, p0, tol=1e-6, max_iter=100):\n",
        "    p = p0\n",
        "    for i in range(max_iter):\n",
        "        p_new = p - f(p) / df(p)\n",
        "        if abs(p_new - p) < tol:\n",
        "            return p_new\n",
        "        p = p_new\n",
        "    return p\n",
        "\n",
        "# Método de la Secante\n",
        "def secant_method(f, p0, p1, tol=1e-6, max_iter=100):\n",
        "    for i in range(max_iter):\n",
        "        if f(p1) - f(p0) == 0:\n",
        "            return None\n",
        "        p2 = p1 - f(p1) * (p1 - p0) / (f(p1) - f(p0))\n",
        "        if abs(p2 - p1) < tol:\n",
        "            return p2\n",
        "        p0, p1 = p1, p2\n",
        "    return p1\n",
        "\n",
        "# Resolver el problema con los métodos de Newton y de la Secante\n",
        "\n",
        "# Cero en el intervalo [-1, 0]\n",
        "p0_newton_1 = (0 - 1) / 2\n",
        "p0_secant_1 = -1\n",
        "p1_secant_1 = 0\n",
        "\n",
        "sol_1_newton = newton_method(f, df, p0_newton_1)\n",
        "sol_1_secant = secant_method(f, p0_secant_1, p1_secant_1)\n",
        "print(f\"Cero en el intervalo [-1, 0] usando Newton: {sol_1_newton}\")\n",
        "print(f\"Cero en el intervalo [-1, 0] usando Secante: {sol_1_secant}\")\n",
        "\n",
        "# Cero en el intervalo [0, 1]\n",
        "p0_newton_2 = (1 + 0) / 2\n",
        "p0_secant_2 = 0\n",
        "p1_secant_2 = 1\n",
        "\n",
        "sol_2_newton = newton_method(f, df, p0_newton_2)\n",
        "sol_2_secant = secant_method(f, p0_secant_2, p1_secant_2)\n",
        "print(f\"Cero en el intervalo [0, 1] usando Newton: {sol_2_newton}\")\n",
        "print(f\"Cero en el intervalo [0, 1] usando Secante: {sol_2_secant}\")\n"
      ],
      "metadata": {
        "colab": {
          "base_uri": "https://localhost:8080/"
        },
        "id": "cn96EtGNZnIW",
        "outputId": "f0bc1f0d-f647-48ba-d435-78999dacaaa8"
      },
      "execution_count": null,
      "outputs": [
        {
          "output_type": "stream",
          "name": "stdout",
          "text": [
            "Cero en el intervalo [-1, 0] usando Newton: -0.04065928831575899\n",
            "Cero en el intervalo [-1, 0] usando Secante: -0.040659288315725135\n",
            "Cero en el intervalo [0, 1] usando Newton: -0.040659288315758865\n",
            "Cero en el intervalo [0, 1] usando Secante: -0.04065928831557162\n"
          ]
        }
      ]
    },
    {
      "cell_type": "markdown",
      "source": [
        "### Ejercicio 5\n",
        "5. La función $( f(x) = \\tan (\\pi x) - 6 )$ tiene cero en $( \\frac{1}{\\pi} \\arctan 6 ≈ 0.447431543 )$. Sea $( p_0 = 0 )$ y $( p_1 = 0.48 )$ y use 10 iteraciones en cada uno de los siguientes métodos para aproximar esta raíz. ¿Cuál método es más eficaz y por qué?\n",
        "   - a. Método de bisección\n",
        "   - b. Método de Newton\n",
        "   - c. Método de la secante"
      ],
      "metadata": {
        "id": "yCi6TnImXQoI"
      }
    },
    {
      "cell_type": "code",
      "source": [
        "import numpy as np\n",
        "\n",
        "# Definir la función y su derivada\n",
        "def f(x):\n",
        "    return np.tan(np.pi * x) - 6\n",
        "\n",
        "def df(x):\n",
        "    return np.pi * (1 / np.cos(np.pi * x))**2\n",
        "\n",
        "# Método de Bisección\n",
        "def bisection_method(f, a, b, tol=1e-6, max_iter=100):\n",
        "    if f(a) * f(b) >= 0:\n",
        "        raise ValueError(\"f(a) and f(b) must have opposite signs\")\n",
        "\n",
        "    for i in range(max_iter):\n",
        "        c = (a + b) / 2\n",
        "        if abs(f(c)) < tol or (b - a) / 2 < tol:\n",
        "            return c\n",
        "        if f(c) * f(a) < 0:\n",
        "            b = c\n",
        "        else:\n",
        "            a = c\n",
        "    return (a + b) / 2\n",
        "\n",
        "# Método de Newton\n",
        "def newton_method(f, df, p0, tol=1e-6, max_iter=100):\n",
        "    p = p0\n",
        "    for i in range(max_iter):\n",
        "        p_new = p - f(p) / df(p)\n",
        "        if abs(p_new - p) < tol:\n",
        "            return p_new\n",
        "        p = p_new\n",
        "    return p\n",
        "\n",
        "# Método de la Secante\n",
        "def secant_method(f, p0, p1, tol=1e-6, max_iter=100):\n",
        "    for i in range(max_iter):\n",
        "        if f(p1) - f(p0) == 0:\n",
        "            return None\n",
        "        p2 = p1 - f(p1) * (p1 - p0) / (f(p1) - f(p0))\n",
        "        if abs(p2 - p1) < tol:\n",
        "            return p2\n",
        "        p0, p1 = p1, p2\n",
        "    return p1\n",
        "\n",
        "# Parámetros iniciales\n",
        "p0 = 0\n",
        "p1 = 0.48\n",
        "\n",
        "# Resolver con el método de Bisección\n",
        "sol_bisection = bisection_method(f, p0, p1, max_iter=10)\n",
        "print(f\"Solución usando Bisección: {sol_bisection}\")\n",
        "\n",
        "# Resolver con el método de Newton\n",
        "sol_newton = newton_method(f, df, p0, max_iter=10)\n",
        "print(f\"Solución usando Newton: {sol_newton}\")\n",
        "\n",
        "# Resolver con el método de la Secante\n",
        "sol_secant = secant_method(f, p0, p1, max_iter=10)\n",
        "print(f\"Solución usando Secante: {sol_secant}\")\n"
      ],
      "metadata": {
        "colab": {
          "base_uri": "https://localhost:8080/"
        },
        "id": "goWDG_SIaGN4",
        "outputId": "462d25c4-1333-40ac-9d34-1f5a7f66d562"
      },
      "execution_count": null,
      "outputs": [
        {
          "output_type": "stream",
          "name": "stdout",
          "text": [
            "Solución usando Bisección: 0.44742187499999997\n",
            "Solución usando Newton: 13.655012218324751\n",
            "Solución usando Secante: -2989.9400375314453\n"
          ]
        }
      ]
    },
    {
      "cell_type": "markdown",
      "source": [
        "### Ejercicio 6\n",
        "6. La función descrita por $( f(x) = \\ln(x^2 + 1) - e^{0.4x} \\cos (\\pi x) )$ tiene un número infinito de ceros.\n",
        "   - a. Determine, dentro de $( 10^{-6} )$, el único cero negativo.\n",
        "   - b. Determine, dentro de $( 10^{-6} )$, los cuatro ceros positivos más pequeños.\n",
        "   - c. Determine una aproximación inicial razonable para encontrar el enésimo cero positivo más pequeño de $( f )$. [Sugerencia: Dibuje una gráfica aproximada de $( f )$.]\n",
        "   - d. Use la parte c) para determinar, dentro de $( 10^{-6} )$, el vigesimoquinto cero positivo más pequeño de $( f )$."
      ],
      "metadata": {
        "id": "y_-Qr8PpYbPn"
      }
    },
    {
      "cell_type": "code",
      "source": [
        "import numpy as np\n",
        "\n",
        "# Definir la función y su derivada\n",
        "def g(x):\n",
        "    return x - 2**(-x)\n",
        "\n",
        "def dg(x):\n",
        "    return 1 + np.log(2) * 2**(-x)\n",
        "\n",
        "# Método de Bisección\n",
        "def bisection_method(f, a, b, tol=1e-6, max_iter=10):\n",
        "    if f(a) * f(b) >= 0:\n",
        "        raise ValueError(\"f(a) and f(b) must have opposite signs\")\n",
        "\n",
        "    for i in range(max_iter):\n",
        "        c = (a + b) / 2\n",
        "        if abs(f(c)) < tol or (b - a) / 2 < tol:\n",
        "            return c\n",
        "        if f(c) * f(a) < 0:\n",
        "            b = c\n",
        "        else:\n",
        "            a = c\n",
        "    return (a + b) / 2\n",
        "\n",
        "# Método de Newton\n",
        "def newton_method(f, df, p0, tol=1e-6, max_iter=10):\n",
        "    p = p0\n",
        "    for i in range(max_iter):\n",
        "        p_new = p - f(p) / df(p)\n",
        "        if abs(p_new - p) < tol:\n",
        "            return p_new\n",
        "        p = p_new\n",
        "    return p\n",
        "\n",
        "# Método de la Secante\n",
        "def secant_method(f, p0, p1, tol=1e-6, max_iter=10):\n",
        "    for i in range(max_iter):\n",
        "        if f(p1) - f(p0) == 0:\n",
        "            return None\n",
        "        p2 = p1 - f(p1) * (p1 - p0) / (f(p1) - f(p0))\n",
        "        if abs(p2 - p1) < tol:\n",
        "            return p2\n",
        "        p0, p1 = p1, p2\n",
        "    return p1\n",
        "\n",
        "# Resolver el problema con los métodos de Bisección, Newton y la Secante\n",
        "\n",
        "# a. Método de Bisección\n",
        "a = 0\n",
        "b = 1\n",
        "sol_bisection = bisection_method(g, a, b, max_iter=10)\n",
        "print(f\"Solución usando Bisección: {sol_bisection}\")\n",
        "\n",
        "# b. Método de Newton\n",
        "p0_newton = 0.5\n",
        "sol_newton = newton_method(g, dg, p0_newton, max_iter=10)\n",
        "print(f\"Solución usando Newton: {sol_newton}\")\n",
        "\n",
        "# c. Método de la Secante\n",
        "p0_secant = 0\n",
        "p1_secant = 1\n",
        "sol_secant = secant_method(g, p0_secant, p1_secant, max_iter=10)\n",
        "print(f\"Solución usando Secante: {sol_secant}\")\n"
      ],
      "metadata": {
        "colab": {
          "base_uri": "https://localhost:8080/"
        },
        "id": "oHa0UbLjaWOv",
        "outputId": "6e156512-09cc-4cd0-b4fd-42bf6e22412c"
      },
      "execution_count": null,
      "outputs": [
        {
          "output_type": "stream",
          "name": "stdout",
          "text": [
            "Solución usando Bisección: 0.64111328125\n",
            "Solución usando Newton: 0.6411857445049576\n",
            "Solución usando Secante: 0.6411857445049859\n"
          ]
        }
      ]
    },
    {
      "cell_type": "markdown",
      "source": [
        "### Ejercicio 7\n",
        "7. La función $( f(x) = x^{1/3} )$ tiene raíz en $( x = 0 )$. Usando el punto de inicio de $( x = 1 )$ y $( p_0 = 5 )$, $( p_1 = 0.5 )$ para el método de secante, compare los resultados de los métodos de la secante y de Newton."
      ],
      "metadata": {
        "id": "pO6kIuVAYeD1"
      }
    },
    {
      "cell_type": "code",
      "source": [
        "import numpy as np\n",
        "\n",
        "# Definir la función y su derivada\n",
        "def h(x):\n",
        "    return x**3 - 7*x**2 + 14*x - 6\n",
        "\n",
        "def dh(x):\n",
        "    return 3*x**2 - 14*x + 14\n",
        "\n",
        "# Método de Newton\n",
        "def newton_method(f, df, p0, tol=1e-6, max_iter=10):\n",
        "    p = p0\n",
        "    for i in range(max_iter):\n",
        "        p_new = p - f(p) / df(p)\n",
        "        if abs(p_new - p) < tol:\n",
        "            return p_new\n",
        "        p = p_new\n",
        "        print(f\"Iteración {i+1}: p = {p}\")\n",
        "    return p\n",
        "\n",
        "# Parámetro inicial\n",
        "p0 = 0.5\n",
        "\n",
        "# Resolver con el método de Newton\n",
        "sol_newton = newton_method(h, dh, p0, max_iter=10)\n",
        "print(f\"Solución usando Newton: {sol_newton}\")\n"
      ],
      "metadata": {
        "colab": {
          "base_uri": "https://localhost:8080/"
        },
        "id": "LKEccfmeaWq-",
        "outputId": "d2fe5fed-8656-4d14-b2e5-ccff8da0cd57"
      },
      "execution_count": null,
      "outputs": [
        {
          "output_type": "stream",
          "name": "stdout",
          "text": [
            "Iteración 1: p = 0.5806451612903226\n",
            "Iteración 2: p = 0.5857662631563547\n",
            "Iteración 3: p = 0.585786437314424\n",
            "Solución usando Newton: 0.5857864376269052\n"
          ]
        }
      ]
    }
  ]
}