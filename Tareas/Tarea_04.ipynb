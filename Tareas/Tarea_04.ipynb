{
  "nbformat": 4,
  "nbformat_minor": 0,
  "metadata": {
    "colab": {
      "provenance": [],
      "toc_visible": true,
      "authorship_tag": "ABX9TyN2a9fKkmntKwSinUgPRr/z",
      "include_colab_link": true
    },
    "kernelspec": {
      "name": "python3",
      "display_name": "Python 3"
    },
    "language_info": {
      "name": "python"
    }
  },
  "cells": [
    {
      "cell_type": "markdown",
      "metadata": {
        "id": "view-in-github",
        "colab_type": "text"
      },
      "source": [
        "<a href=\"https://colab.research.google.com/github/Andro2k/Metodos-Numericos/blob/main/Tarea_4.ipynb\" target=\"_parent\"><img src=\"https://colab.research.google.com/assets/colab-badge.svg\" alt=\"Open In Colab\"/></a>"
      ]
    },
    {
      "cell_type": "markdown",
      "source": [
        "# **Tarea 4**\n",
        "* **Estudiante:** Jose Luis Andino\n",
        "* **Materia:** Metodos Numericos\n",
        "* **Carrera:** Computación\n",
        "* **Docente:** Jonathan A. Zea"
      ],
      "metadata": {
        "id": "GOyg8ySjphA_"
      }
    },
    {
      "cell_type": "markdown",
      "source": [
        "## **CONJUNTO DE EJERCICIOS**"
      ],
      "metadata": {
        "id": "9XfCbTr0ERBK"
      }
    },
    {
      "cell_type": "markdown",
      "source": [
        "### EJERCICIO 1\n",
        "* Utiliza el método de bisección para encontrar soluciones precisas dentro de $10^{-6}$ para la ecuación $𝑥^3−7𝑥^2+ 14𝑥−6 = 0$ en los intervalos dados.\n",
        "* $a. [0, 1]$"
      ],
      "metadata": {
        "id": "plexfHWjDxXg"
      }
    },
    {
      "cell_type": "code",
      "execution_count": 3,
      "metadata": {
        "colab": {
          "base_uri": "https://localhost:8080/",
          "height": 0
        },
        "id": "ObCOsVopAWqG",
        "outputId": "6e8dd08d-1dd4-46a7-d86d-4cb666416cbc"
      },
      "outputs": [
        {
          "output_type": "stream",
          "name": "stdout",
          "text": [
            "Solución aproximada en el intervalo [0, 1]: 0.5857925415039062\n"
          ]
        }
      ],
      "source": [
        "def f(x):\n",
        "    return x**3 - 7*x**2 + 14*x - 6\n",
        "\n",
        "def biseccion(a, b, tol=1e-5):\n",
        "    if f(a) * f(b) >= 0:\n",
        "        print(\"El método de bisección no puede aplicarse.\")\n",
        "        return None\n",
        "    while (b - a) / 2 > tol:\n",
        "        c = (a + b) / 2\n",
        "        if f(c) == 0:\n",
        "            return c\n",
        "        elif f(a) * f(c) < 0:\n",
        "            b = c\n",
        "        else:\n",
        "            a = c\n",
        "    return (a + b) / 2\n",
        "\n",
        "resultado = biseccion(0, 1)\n",
        "print(f\"Solución aproximada en el intervalo [0, 1]: {resultado}\")\n"
      ]
    },
    {
      "cell_type": "markdown",
      "source": [
        "* $b. [1, 3.2]$"
      ],
      "metadata": {
        "id": "6tKQjL24we0r"
      }
    },
    {
      "cell_type": "code",
      "source": [
        "resultado = biseccion(1, 3.2)\n",
        "print(f\"Solución aproximada en el intervalo [1, 3.2]: {resultado}\")\n"
      ],
      "metadata": {
        "colab": {
          "base_uri": "https://localhost:8080/",
          "height": 0
        },
        "id": "-JAUzWxdv3of",
        "outputId": "f5eea2f5-d280-475b-f4cb-fc481105aabe"
      },
      "execution_count": 4,
      "outputs": [
        {
          "output_type": "stream",
          "name": "stdout",
          "text": [
            "Solución aproximada en el intervalo [1, 3.2]: 3.0000022888183597\n"
          ]
        }
      ]
    },
    {
      "cell_type": "markdown",
      "source": [
        "* $c. [3.2, 4]$"
      ],
      "metadata": {
        "id": "Ou2oREwkwgbU"
      }
    },
    {
      "cell_type": "code",
      "source": [
        "resultado = biseccion(3.2, 4)\n",
        "print(f\"Solución aproximada en el intervalo [3.2, 4]: {resultado}\")\n"
      ],
      "metadata": {
        "colab": {
          "base_uri": "https://localhost:8080/",
          "height": 0
        },
        "id": "mU_qnZ2nv5B0",
        "outputId": "39bb9dab-25a7-4355-a249-eb9a0f327ea0"
      },
      "execution_count": 5,
      "outputs": [
        {
          "output_type": "stream",
          "name": "stdout",
          "text": [
            "Solución aproximada en el intervalo [3.2, 4]: 3.4142150878906254\n"
          ]
        }
      ]
    },
    {
      "cell_type": "markdown",
      "source": [
        "### EJERCICIO 2\n",
        "* a. Dibuja las gráficas de $𝑦= 𝑥$ y $𝑦= sin 𝑥$."
      ],
      "metadata": {
        "id": "pThfwrEOEowF"
      }
    },
    {
      "cell_type": "code",
      "source": [
        "import numpy as np\n",
        "import matplotlib.pyplot as plt\n",
        "\n",
        "x = np.linspace(0, 2*np.pi, 100)\n",
        "y1 = x\n",
        "y2 = np.sin(x)\n",
        "\n",
        "plt.plot(x, y1, label='y = x')\n",
        "plt.plot(x, y2, label='y = sin(x)')\n",
        "plt.legend()\n",
        "plt.xlabel('x')\n",
        "plt.ylabel('y')\n",
        "plt.title('Gráficas de y = x y y = sin(x)')\n",
        "plt.grid(True)\n",
        "plt.show()"
      ],
      "metadata": {
        "colab": {
          "base_uri": "https://localhost:8080/",
          "height": 472
        },
        "id": "f13PlzNxDvHI",
        "outputId": "5e680134-2987-4958-a220-fd32354ac3b1"
      },
      "execution_count": 6,
      "outputs": [
        {
          "output_type": "display_data",
          "data": {
            "text/plain": [
              "<Figure size 640x480 with 1 Axes>"
            ],
            "image/png": "[encoded data removed]"
          },
          "metadata": {}
        }
      ]
    },
    {
      "cell_type": "markdown",
      "source": [
        "* b. Utiliza el método de bisección para encontrar soluciones precisas dentro de $10^{-5}$ para el primer valor positivo de $𝑥$ con $𝑥= 2 sin 𝑥$."
      ],
      "metadata": {
        "id": "VDIcBqkkwE_5"
      }
    },
    {
      "cell_type": "code",
      "source": [
        "def g(x):\n",
        "    return x - 2 * np.sin(x)\n",
        "\n",
        "resultado = biseccion(1, 2)  # intervalo inicial donde se encuentra la solución\n",
        "print(f\"Solución aproximada para x = 2*sin(x): {resultado}\")\n"
      ],
      "metadata": {
        "colab": {
          "base_uri": "https://localhost:8080/",
          "height": 0
        },
        "id": "S7iPrGQXFBlO",
        "outputId": "cbf57f6e-8add-4bad-d89e-b96fbefb8858"
      },
      "execution_count": 7,
      "outputs": [
        {
          "output_type": "stream",
          "name": "stdout",
          "text": [
            "El método de bisección no puede aplicarse.\n",
            "Solución aproximada para x = 2*sin(x): None\n"
          ]
        }
      ]
    },
    {
      "cell_type": "markdown",
      "source": [
        "### EJERCICIO 3\n",
        "* a. Dibuje las gráficas para $𝑦 = 𝑥$ y $𝑦 = tan 𝑥$."
      ],
      "metadata": {
        "id": "WleUB_zLotlN"
      }
    },
    {
      "cell_type": "code",
      "source": [
        "x = np.linspace(-np.pi/2, np.pi/2, 100)\n",
        "y1 = x\n",
        "y2 = np.tan(x)\n",
        "\n",
        "plt.plot(x, y1, label='y = x')\n",
        "plt.plot(x, y2, label='y = tan(x)')\n",
        "plt.legend()\n",
        "plt.xlabel('x')\n",
        "plt.ylabel('y')\n",
        "plt.title('Gráficas de y = x y y = tan(x)')\n",
        "plt.ylim(-10, 10)  # limitar el eje y para mejor visualización\n",
        "plt.grid(True)\n",
        "plt.show()"
      ],
      "metadata": {
        "colab": {
          "base_uri": "https://localhost:8080/",
          "height": 472
        },
        "id": "NbAFNMuWxHFm",
        "outputId": "b97d5129-3771-4d5f-8aad-90049be14d54"
      },
      "execution_count": 8,
      "outputs": [
        {
          "output_type": "display_data",
          "data": {
            "text/plain": [
              "<Figure size 640x480 with 1 Axes>"
            ],
            "image/png": "[encoded data removed]"
          },
          "metadata": {}
        }
      ]
    },
    {
      "cell_type": "markdown",
      "source": [
        "* b. Utiliza el método de bisección para encontrar una aproximación dentro de $10^{-5}$ para el primer valor positivo de $𝑥$ con $𝑥 = tan 𝑥$."
      ],
      "metadata": {
        "id": "cfN_fl05xLZT"
      }
    },
    {
      "cell_type": "code",
      "source": [
        "def h(x):\n",
        "    return x - np.tan(x)\n",
        "\n",
        "resultado = biseccion(4.5, 4.7)  # intervalo inicial donde se encuentra la solución\n",
        "print(f\"Solución aproximada para x = tan(x): {resultado}\")\n"
      ],
      "metadata": {
        "colab": {
          "base_uri": "https://localhost:8080/",
          "height": 0
        },
        "id": "bBguTKQSxqZ7",
        "outputId": "1949ee31-d4b7-4d7c-d4ef-e676fc0679a7"
      },
      "execution_count": 9,
      "outputs": [
        {
          "output_type": "stream",
          "name": "stdout",
          "text": [
            "El método de bisección no puede aplicarse.\n",
            "Solución aproximada para x = tan(x): None\n"
          ]
        }
      ]
    },
    {
      "cell_type": "markdown",
      "source": [
        "### EJERCICIO 4\n",
        "* a. Dibuje las gráficas para $𝑦= 𝑥-1$ y $𝑦= e^{x}$, añadiendo un valor aleatorio al valor de $x$ de $0.0001234..$"
      ],
      "metadata": {
        "id": "GFmllSvQwmLZ"
      }
    },
    {
      "cell_type": "code",
      "source": [
        "import random\n",
        "\n",
        "x = np.linspace(-2, 2, 100)\n",
        "y1 = x - 1\n",
        "y2 = np.exp(x)\n",
        "\n",
        "plt.plot(x, y1, label='y = x - 1')\n",
        "plt.plot(x, y2, label='y = e^x')\n",
        "plt.legend()\n",
        "plt.xlabel('x')\n",
        "plt.ylabel('y')\n",
        "plt.title('Gráficas de y = x - 1 y y = e^x')\n",
        "plt.grid(True)\n",
        "plt.show()\n",
        "\n",
        "random_value = 0.0001234 + random.random()\n",
        "print(f\"Valor aleatorio añadido: {random_value}\")\n"
      ],
      "metadata": {
        "colab": {
          "base_uri": "https://localhost:8080/",
          "height": 489
        },
        "id": "xSAg-Bws3m8R",
        "outputId": "b871beb8-a2ee-4ea6-9706-ecb20f3e5916"
      },
      "execution_count": 10,
      "outputs": [
        {
          "output_type": "display_data",
          "data": {
            "text/plain": [
              "<Figure size 640x480 with 1 Axes>"
            ],
            "image/png": "[encoded data removed]"
          },
          "metadata": {}
        },
        {
          "output_type": "stream",
          "name": "stdout",
          "text": [
            "Valor aleatorio añadido: 0.7080729888766295\n"
          ]
        }
      ]
    },
    {
      "cell_type": "markdown",
      "source": [
        "* b. Use el método de bisección para encontrar una aproximación dentro de $10^{-5}$ para un valor en $[-2, 0]$ con $𝑥 - 1 = e^{x}$."
      ],
      "metadata": {
        "id": "Imh_DxjC3qgU"
      }
    },
    {
      "cell_type": "code",
      "source": [
        "def k(x):\n",
        "    return x - 1 - np.exp(x)\n",
        "\n",
        "resultado = biseccion(-2, 0)\n",
        "print(f\"Solución aproximada para x - 1 = e^x: {resultado}\")\n"
      ],
      "metadata": {
        "colab": {
          "base_uri": "https://localhost:8080/",
          "height": 0
        },
        "id": "AZbYZUH_4BkH",
        "outputId": "7716c8af-c210-48d3-89c2-1ab2d9bcdc78"
      },
      "execution_count": 11,
      "outputs": [
        {
          "output_type": "stream",
          "name": "stdout",
          "text": [
            "El método de bisección no puede aplicarse.\n",
            "Solución aproximada para x - 1 = e^x: None\n"
          ]
        }
      ]
    },
    {
      "cell_type": "markdown",
      "source": [
        "### EJERCICIO 5\n",
        "* Sea $𝑓(𝑥) = (𝑥 + 3)(𝑥 + 1)^{2}𝑥(𝑥 − 1)^{3}(𝑥 − 3)$. ¿En qué cero de $𝑓$ converge el método de bisección cuando\n",
        "se aplica en los siguientes intervalos?"
      ],
      "metadata": {
        "id": "0WzHy_Aywo1F"
      }
    },
    {
      "cell_type": "markdown",
      "source": [
        "* $a.[-1.5, 2.5]$"
      ],
      "metadata": {
        "id": "gIbG3NtA4d10"
      }
    },
    {
      "cell_type": "code",
      "source": [
        "def f5(x):\n",
        "    return (x + 3)*(x + 1)*x*(x - 1)*(x - 3)\n",
        "\n",
        "resultado = biseccion(-1.5, 2.5)\n",
        "print(f\"Solución aproximada en el intervalo [-1.5, 2.5]: {resultado}\")\n"
      ],
      "metadata": {
        "colab": {
          "base_uri": "https://localhost:8080/",
          "height": 0
        },
        "id": "Z2pLb1Qk4m8G",
        "outputId": "0f48c03d-6eca-4100-e556-c1c58024be76"
      },
      "execution_count": 12,
      "outputs": [
        {
          "output_type": "stream",
          "name": "stdout",
          "text": [
            "Solución aproximada en el intervalo [-1.5, 2.5]: 0.5857925415039062\n"
          ]
        }
      ]
    },
    {
      "cell_type": "markdown",
      "source": [
        "## **EJERCICIOS APLICADOS**"
      ],
      "metadata": {
        "id": "H_-u_hsVhF5s"
      }
    },
    {
      "cell_type": "markdown",
      "source": [
        "### EJERCICIO 1\n",
        "1. Un abrevadero de longitud $𝐿$ tiene una sección transversal en forma de semicírculo con radio $𝑟$. (Consulte la figura adjunta.) Cuando se llena con agua hasta una distancia $ℎ$ a partir de la parte superior, el volumen $𝑉$ de\n",
        "agua es\n",
        "\n",
        "$$\n",
        "    V = L \\left(0.5 \\pi r^2 - r^2 \\arcsin\\left(\\frac{h}{r}\\right) - h \\left(r - \\sqrt{r^2 - h^2}\\right)\\right)\n",
        "$$\n",
        "\n",
        "\n",
        "* Suponga que $ 𝐿 = 10 𝑐𝑚, 𝑟 = 1 𝑐𝑚$ y $𝑉 = 12.4 𝑐𝑚^{3}$. Encuentre la profundidad del agua en el abrevadero\n",
        "dentro de $0.01 𝑐𝑚$.\n"
      ],
      "metadata": {
        "id": "J8_hTwGlwrG5"
      }
    },
    {
      "cell_type": "code",
      "source": [
        "import numpy as np\n",
        "\n",
        "def volumen(L, r, h):\n",
        "    term1 = 0.5 * np.pi * r**2\n",
        "    term2 = r**2 * np.arcsin(h / r)\n",
        "    term3 = h * (r - np.sqrt(r**2 - h**2))\n",
        "    return L * (term1 - term2 - term3)\n",
        "\n",
        "L = 10\n",
        "r = 1\n",
        "V_deseado = 12.4\n",
        "\n",
        "def funcion_a_cero(h):\n",
        "    return volumen(L, r, h) - V_deseado\n",
        "\n",
        "# Método de bisección\n",
        "def biseccion(func, a, b, tol=1e-2):\n",
        "    if func(a) * func(b) >= 0:\n",
        "        print(\"El método de bisección no puede aplicarse.\")\n",
        "        return None\n",
        "    while (b - a) / 2 > tol:\n",
        "        c = (a + b) / 2\n",
        "        if func(c) == 0:\n",
        "            return c\n",
        "        elif func(a) * func(c) < 0:\n",
        "            b = c\n",
        "        else:\n",
        "            a = c\n",
        "    return (a + b) / 2\n",
        "\n",
        "# Encontrar h en el intervalo [0, r]\n",
        "h = biseccion(funcion_a_cero, 0, r)\n",
        "print(f\"Profundidad del agua en el abrevadero: {h:.2f} cm\")\n"
      ],
      "metadata": {
        "colab": {
          "base_uri": "https://localhost:8080/",
          "height": 0
        },
        "id": "dhB2MAwJilom",
        "outputId": "b8fe4b84-52bb-491a-e51a-d8a1109347eb"
      },
      "execution_count": 13,
      "outputs": [
        {
          "output_type": "stream",
          "name": "stdout",
          "text": [
            "Profundidad del agua en el abrevadero: 0.30 cm\n"
          ]
        }
      ]
    },
    {
      "cell_type": "markdown",
      "source": [
        "### EJERCICIO 2\n",
        "1. Un objeto que cae verticalmente a través del aire está sujeto a una resistencia viscosa, así como a la fuerza de gravedad. Suponga que un objeto con masa $𝑚$ cae desde una altura $𝑠$ y que la altura del objeto después\n",
        "de $𝑡$ segundos es\n",
        "$$\n",
        "    s(t) = s_0 - \\frac{1}{2} g t^2 + \\frac{1}{k} \\left(1 - e^{-kt/m}\\right)\n",
        "$$\n",
        "\n",
        "* donde $g = 9.81 \\frac{m}{s^2}$ y $𝑘$ representa el coeficiente de la resistencia del aire en $𝑁_𝑠/m$. Suponga $s_o = 300 𝑚, 𝑚 = 0.25 𝑘𝑔$ y $𝑘 = 0.1 𝑁_𝑠/m$. Encuentre, dentro de $0.01 𝑠𝑒𝑔𝑢𝑛𝑑𝑜𝑠$, el tiempo que tarda un cuarto de $kg$ en golpear el piso."
      ],
      "metadata": {
        "id": "fSdubrGAws_N"
      }
    },
    {
      "cell_type": "code",
      "source": [
        "import numpy as np\n",
        "\n",
        "s0 = 300\n",
        "m = 0.25\n",
        "k = 0.1\n",
        "g = 9.81\n",
        "\n",
        "def altura(t):\n",
        "    return s0 - 0.5 * g * t**2 + (1 / k) * (1 - np.exp(-k * t / m))\n",
        "\n",
        "def funcion_tiempo(t):\n",
        "    return altura(t)\n",
        "\n",
        "# Método de bisección\n",
        "def biseccion(func, a, b, tol=1e-2):\n",
        "    if func(a) * func(b) >= 0:\n",
        "        print(\"El método de bisección no puede aplicarse.\")\n",
        "        return None\n",
        "    while (b - a) / 2 > tol:\n",
        "        c = (a + b) / 2\n",
        "        if func(c) == 0 or (b - a) / 2 < tol:\n",
        "            return c\n",
        "        elif func(a) * func(c) < 0:\n",
        "            b = c\n",
        "        else:\n",
        "            a = c\n",
        "    return (a + b) / 2\n",
        "\n",
        "# Encontrar t en el intervalo [0, 20] (suficientemente grande para cubrir la caída)\n",
        "t_caida = biseccion(lambda t: funcion_tiempo(t) - 0, 0, 20)\n",
        "print(f\"Tiempo hasta golpear el piso: {t_caida:.2f} segundos\")\n"
      ],
      "metadata": {
        "colab": {
          "base_uri": "https://localhost:8080/",
          "height": 0
        },
        "id": "1QsHZOCIhvEl",
        "outputId": "3102acfb-6b2b-4914-9943-936e5d3814c4"
      },
      "execution_count": 14,
      "outputs": [
        {
          "output_type": "stream",
          "name": "stdout",
          "text": [
            "Tiempo hasta golpear el piso: 7.94 segundos\n"
          ]
        }
      ]
    },
    {
      "cell_type": "markdown",
      "source": [
        "## **EJERCICIOS TEÓRICOS**"
      ],
      "metadata": {
        "id": "Hhu4Cnl7hVGE"
      }
    },
    {
      "cell_type": "markdown",
      "source": [
        "### EJERCICIO 1\n",
        "* Use el teorema 2.1 para encontrar una cota para el número de iteraciones necesarias para lograr una aproximación con precisión de $10^{-4}$ para la solución de $𝑥^{3} − 𝑥 − 1 = 0$ que se encuentra dentro del intervalo\n",
        "%[1, 2]%. Encuentre una aproximación para la raíz con este grado de precisión."
      ],
      "metadata": {
        "id": "xprF6o_Zww1L"
      }
    },
    {
      "cell_type": "code",
      "source": [
        "import math\n",
        "\n",
        "# Definir la función\n",
        "def f(x):\n",
        "    return x**3 - x - 1\n",
        "\n",
        "# Definir el intervalo y precisión\n",
        "a = 1\n",
        "b = 2\n",
        "epsilon = 10**-5\n",
        "\n",
        "# Calcular el número de iteraciones necesarias\n",
        "n = math.ceil((math.log(b - a) - math.log(epsilon)) / math.log(2))\n",
        "print(f\"El número de iteraciones necesarias es: {n}\")\n",
        "\n",
        "# Método de bisección\n",
        "def biseccion(f, a, b, epsilon):\n",
        "    if f(a) * f(b) >= 0:\n",
        "        print(\"El método de bisección no se puede aplicar.\")\n",
        "        return None\n",
        "    c = a\n",
        "    while (b - a) / 2.0 > epsilon:\n",
        "        c = (a + b) / 2.0\n",
        "        if f(c) == 0:\n",
        "            break\n",
        "        elif f(a) * f(c) < 0:\n",
        "            b = c\n",
        "        else:\n",
        "            a = c\n",
        "    return c\n",
        "\n",
        "# Encontrar la raíz\n",
        "raiz = biseccion(f, a, b, epsilon)\n",
        "print(f\"La aproximación de la raíz con precisión de {epsilon} es: {raiz}\")\n"
      ],
      "metadata": {
        "colab": {
          "base_uri": "https://localhost:8080/",
          "height": 0
        },
        "id": "I4nF3bxzmnxr",
        "outputId": "765978a5-8c8c-4481-f2bb-735a6893b79e"
      },
      "execution_count": 17,
      "outputs": [
        {
          "output_type": "stream",
          "name": "stdout",
          "text": [
            "El número de iteraciones necesarias es: 17\n",
            "La aproximación de la raíz con precisión de 1e-05 es: 1.3247222900390625\n"
          ]
        }
      ]
    },
    {
      "cell_type": "markdown",
      "source": [
        "### EJERCICIO 2\n",
        "* La función definida por $𝑓(𝑥) = sin (𝜋) 𝑥$ tiene ceros en cada entero. Muestre cuando $−1 < 𝑎 < 0$ y $2 < 𝑏 < 3$, el método de bisección converge a"
      ],
      "metadata": {
        "id": "fP0yEx-owyTK"
      }
    },
    {
      "cell_type": "markdown",
      "source": [
        "* Caso a: $𝑎+𝑏<$\n",
        "* Caso b: $a+b>2$\n",
        "* Caso c: $a+b=2$"
      ],
      "metadata": {
        "id": "9RqbH91WmdgA"
      }
    },
    {
      "cell_type": "code",
      "source": [
        "import math\n",
        "\n",
        "# Definir la función\n",
        "def f(x):\n",
        "    return math.sin(math.pi * x)\n",
        "\n",
        "# Definir los intervalos\n",
        "intervalos = [(-1, 0), (2, 3)]\n",
        "epsilon = 10**-5\n",
        "\n",
        "# Método de bisección\n",
        "def biseccion(f, a, b, epsilon):\n",
        "    if f(a) * f(b) >= 0:\n",
        "        print(\"El método de bisección no se puede aplicar.\")\n",
        "        return None\n",
        "    c = a\n",
        "    while (b - a) / 2.0 > epsilon:\n",
        "        c = (a + b) / 2.0\n",
        "        if f(c) == 0:\n",
        "            break\n",
        "        elif f(a) * f(c) < 0:\n",
        "            b = c\n",
        "        else:\n",
        "            a = c\n",
        "    return c\n",
        "\n",
        "# Encontrar las raíces y comparar eficiencia\n",
        "for a, b in intervalos:\n",
        "    raiz = biseccion(f, a, b, epsilon)\n",
        "    print(f\"La aproximación de la raíz en el intervalo ({a}, {b}) con precisión de {epsilon} es: {raiz}\")\n"
      ],
      "metadata": {
        "colab": {
          "base_uri": "https://localhost:8080/",
          "height": 0
        },
        "id": "WMIuuLSHmGp8",
        "outputId": "4eea578f-4fa1-43b2-e59e-da6f1cef56dd"
      },
      "execution_count": 19,
      "outputs": [
        {
          "output_type": "stream",
          "name": "stdout",
          "text": [
            "El método de bisección no se puede aplicar.\n",
            "La aproximación de la raíz en el intervalo (-1, 0) con precisión de 1e-05 es: None\n",
            "La aproximación de la raíz en el intervalo (2, 3) con precisión de 1e-05 es: 2.0000152587890625\n"
          ]
        }
      ]
    }
  ]
}