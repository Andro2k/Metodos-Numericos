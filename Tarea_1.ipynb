{
  "cells": [
    {
      "cell_type": "markdown",
      "metadata": {
        "id": "view-in-github",
        "colab_type": "text"
      },
      "source": [
        "<a href=\"https://colab.research.google.com/github/Andro2k/Metodos-Numericos/blob/main/Tarea_1.ipynb\" target=\"_parent\"><img src=\"https://colab.research.google.com/assets/colab-badge.svg\" alt=\"Open In Colab\"/></a>"
      ]
    },
    {
      "cell_type": "markdown",
      "source": [
        "# **Tarea N1**\n",
        "* **Estudiante:** Jose Luis Andino\n",
        "* **Materia:** Metodos Numericos\n",
        "* **Carrera:** Computación\n",
        "* **Docente:** Jonathan A. Zea\n"
      ],
      "metadata": {
        "id": "iGomuFi1Fngy"
      }
    },
    {
      "cell_type": "markdown",
      "source": [
        "## Ejercicio 1\n",
        "---\n",
        "* Calcule los errores absoluto y relativo en las aproximaciones de 𝑝 por 𝑝∗.\n",
        "* Este código calcula los errores absoluto y relativo para cada una de las aproximaciones dadas en el ejercicio 1. Utiliza la biblioteca math de Python para obtener los valores exactos de π, e y √2. Los resultados se imprimen con 4 decimales."
      ],
      "metadata": {
        "id": "FwifzaKcGZZd"
      }
    },
    {
      "cell_type": "code",
      "source": [
        "import math\n",
        "\n",
        "# Ejercicio 1\n",
        "print(\"Ejercicio 1:\")\n",
        "\n",
        "# a. p = π, p* = 22/7\n",
        "p = math.pi\n",
        "p_star = 22/7\n",
        "error_absoluto = abs(p - p_star)\n",
        "error_relativo = error_absoluto / p\n",
        "print(f\"a. p = π, p* = 22/7\")\n",
        "print(f\"Error absoluto: {error_absoluto:.4f}\")\n",
        "print(f\"Error relativo: {error_relativo:.4f}\")\n",
        "\n",
        "# b. p = π, p* = 3.1416\n",
        "p = math.pi\n",
        "p_star = 3.1416\n",
        "error_absoluto = abs(p - p_star)\n",
        "error_relativo = error_absoluto / p\n",
        "print(f\"\\nb. p = π, p* = 3.1416\")\n",
        "print(f\"Error absoluto: {error_absoluto:.4f}\")\n",
        "print(f\"Error relativo: {error_relativo:.4f}\")\n",
        "\n",
        "# c. p = e, p* = 2.718\n",
        "p = math.e\n",
        "p_star = 2.718\n",
        "error_absoluto = abs(p - p_star)\n",
        "error_relativo = error_absoluto / p\n",
        "print(f\"\\nc. p = e, p* = 2.718\")\n",
        "print(f\"Error absoluto: {error_absoluto:.4f}\")\n",
        "print(f\"Error relativo: {error_relativo:.4f}\")\n",
        "\n",
        "# d. p = √2, p* = 1.414\n",
        "p = math.sqrt(2)\n",
        "p_star = 1.414\n",
        "error_absoluto = abs(p - p_star)\n",
        "error_relativo = error_absoluto / p\n",
        "print(f\"\\nd. p = √2, p* = 1.414\")\n",
        "print(f\"Error absoluto: {error_absoluto:.4f}\")\n",
        "print(f\"Error relativo: {error_relativo:.4f}\")"
      ],
      "metadata": {
        "id": "hiYDcxRoGYYx",
        "outputId": "02e4fbed-9ca1-49de-f5f1-dc83a1bd17a3",
        "colab": {
          "base_uri": "https://localhost:8080/"
        }
      },
      "execution_count": null,
      "outputs": [
        {
          "output_type": "stream",
          "name": "stdout",
          "text": [
            "Ejercicio 1:\n",
            "a. p = π, p* = 22/7\n",
            "Error absoluto: 0.0013\n",
            "Error relativo: 0.0004\n",
            "\n",
            "b. p = π, p* = 3.1416\n",
            "Error absoluto: 0.0000\n",
            "Error relativo: 0.0000\n",
            "\n",
            "c. p = e, p* = 2.718\n",
            "Error absoluto: 0.0003\n",
            "Error relativo: 0.0001\n",
            "\n",
            "d. p = √2, p* = 1.414\n",
            "Error absoluto: 0.0002\n",
            "Error relativo: 0.0002\n"
          ]
        }
      ]
    },
    {
      "cell_type": "markdown",
      "source": [
        "## Ejercicio 2\n",
        "---\n",
        "* Calcule los errores absoluto y relativo en las aproximaciones de 𝑝 por 𝑝∗.\n",
        "* Este código calcula los errores absoluto y relativo para cada una de las aproximaciones dadas en el segundo ejercicio. Utiliza funciones matemáticas de Python para calcular los valores exactos de las expresiones dadas. Los resultados se imprimen con 4 decimales.\n",
        "\n"
      ],
      "metadata": {
        "id": "xkvhb0FVG0S0"
      }
    },
    {
      "cell_type": "code",
      "source": [
        "import math\n",
        "\n",
        "# Ejercicio 2\n",
        "print(\"Ejercicio 2:\")\n",
        "\n",
        "# a. p = e^10, p* = 22000\n",
        "p = math.exp(10)\n",
        "p_star = 22000\n",
        "error_absoluto = abs(p - p_star)\n",
        "error_relativo = error_absoluto / p\n",
        "print(\"a. p = e^10, p* = 22000\")\n",
        "print(f\"Error absoluto: {error_absoluto:.4f}\")\n",
        "print(f\"Error relativo: {error_relativo:.4f}\")\n",
        "\n",
        "# b. p = 10^π, p* = 1400\n",
        "p = 10 ** math.pi\n",
        "p_star = 1400\n",
        "error_absoluto = abs(p - p_star)\n",
        "error_relativo = error_absoluto / p\n",
        "print(\"\\nb. p = 10^π, p* = 1400\")\n",
        "print(f\"Error absoluto: {error_absoluto:.4f}\")\n",
        "print(f\"Error relativo: {error_relativo:.4f}\")\n",
        "\n",
        "# c. p = 8!, p* = 39900\n",
        "p = math.factorial(8)\n",
        "p_star = 39900\n",
        "error_absoluto = abs(p - p_star)\n",
        "error_relativo = error_absoluto / p\n",
        "print(f\"\\nc. p = 8!, p* = 39900\")\n",
        "print(f\"Error absoluto: {error_absoluto:.4f}\")\n",
        "print(f\"Error relativo: {error_relativo:.4f}\")\n",
        "\n",
        "# d. p = 9!, p* = √(18π) - (9/e)^9\n",
        "p = math.factorial(9)\n",
        "p_star = math.sqrt(18 * math.pi) - (9 / math.e) ** 9\n",
        "error_absoluto = abs(p - p_star)\n",
        "error_relativo = error_absoluto / p\n",
        "print(\"\\nd. p = 9!, p* = √(18π) - (9/e)^9\")\n",
        "print(f\"Error absoluto: {error_absoluto:.4f}\")\n",
        "print(f\"Error relativo: {error_relativo:.4f}\")"
      ],
      "metadata": {
        "id": "DUGCL_Q8GuFp",
        "outputId": "aab85e25-143d-444a-c606-1473ddd2f646",
        "colab": {
          "base_uri": "https://localhost:8080/"
        }
      },
      "execution_count": null,
      "outputs": [
        {
          "output_type": "stream",
          "name": "stdout",
          "text": [
            "Ejercicio 2:\n",
            "a. p = e^10, p* = 22000\n",
            "Error absoluto: 26.4658\n",
            "Error relativo: 0.0012\n",
            "\n",
            "b. p = 10^π, p* = 1400\n",
            "Error absoluto: 14.5443\n",
            "Error relativo: 0.0105\n",
            "\n",
            "c. p = 8!, p* = 39900\n",
            "Error absoluto: 420.0000\n",
            "Error relativo: 0.0104\n",
            "\n",
            "d. p = 9!, p* = √(18π) - (9/e)^9\n",
            "Error absoluto: 410683.9668\n",
            "Error relativo: 1.1317\n"
          ]
        }
      ]
    },
    {
      "cell_type": "markdown",
      "source": [
        "## Ejercicio 3\n",
        "---\n",
        "* Encuentre el intervalo más largo en el que se debe encontrar $p*$ para aproximarse a $p$ con error relativo máximo de $10^{−4}$ para cada valor de $p$.\n",
        "* Este código calcula el intervalo más largo en el que $p*$ debe encontrarse para aproximar cada uno de los valores de $p (π, e, √2, √7)$ con un error relativo máximo de $10^{-4}$. Utiliza las fórmulas proporcionadas en el ejercicio 3 para determinar los valores mínimo y máximo de $p*$ que cumplen con el criterio de error relativo.\n",
        "\n"
      ],
      "metadata": {
        "id": "rsggIh8UHp4u"
      }
    },
    {
      "cell_type": "code",
      "source": [
        "import math\n",
        "\n",
        "# Ejercicio 3\n",
        "print(\"Ejercicio 3:\")\n",
        "\n",
        "# a. Valor de p = π\n",
        "print(\"a. Valor de p = π\")\n",
        "p = math.pi\n",
        "error_relativo_max = 1e-4\n",
        "\n",
        "p_star_min = p * (1 - error_relativo_max)\n",
        "p_star_max = p * (1 + error_relativo_max)\n",
        "\n",
        "print(f\"El intervalo más largo en el que p* debe encontrarse para aproximar π con un error relativo máximo de 10^-4 es:\")\n",
        "print(f\"[{p_star_min:.4f}, {p_star_max:.4f}]\")\n",
        "\n",
        "# b. Valor de p = e\n",
        "print(\"\\nb. Valor de p = e\")\n",
        "p = math.e\n",
        "error_relativo_max = 1e-4\n",
        "\n",
        "p_star_min = p * (1 - error_relativo_max)\n",
        "p_star_max = p * (1 + error_relativo_max)\n",
        "\n",
        "print(f\"El intervalo más largo en el que p* debe encontrarse para aproximar e con un error relativo máximo de 10^-4 es:\")\n",
        "print(f\"[{p_star_min:.4f}, {p_star_max:.4f}]\")\n",
        "\n",
        "# c. Valor de p = √2\n",
        "print(\"\\nc. Valor de p = √2\")\n",
        "p = math.sqrt(2)\n",
        "error_relativo_max = 1e-4\n",
        "\n",
        "p_star_min = p * (1 - error_relativo_max)\n",
        "p_star_max = p * (1 + error_relativo_max)\n",
        "\n",
        "print(f\"El intervalo más largo en el que p* debe encontrarse para aproximar √2 con un error relativo máximo de 10^-4 es:\")\n",
        "print(f\"[{p_star_min:.4f}, {p_star_max:.4f}]\")\n",
        "\n",
        "# d. Valor de p = √7\n",
        "print(\"\\nd. Valor de p = √7\")\n",
        "p = math.sqrt(7)\n",
        "error_relativo_max = 1e-4\n",
        "\n",
        "p_star_min = p * (1 - error_relativo_max)\n",
        "p_star_max = p * (1 + error_relativo_max)\n",
        "\n",
        "print(f\"El intervalo más largo en el que p* debe encontrarse para aproximar √7 con un error relativo máximo de 10^-4 es:\")\n",
        "print(f\"[{p_star_min:.4f}, {p_star_max:.4f}]\")"
      ],
      "metadata": {
        "id": "8QVhcU_aIDFd",
        "outputId": "c305faf6-b8bf-4b7d-b0fb-07144e47ac25",
        "colab": {
          "base_uri": "https://localhost:8080/"
        }
      },
      "execution_count": null,
      "outputs": [
        {
          "output_type": "stream",
          "name": "stdout",
          "text": [
            "Ejercicio 3:\n",
            "a. Valor de p = π\n",
            "El intervalo más largo en el que p* debe encontrarse para aproximar π con un error relativo máximo de 10^-4 es:\n",
            "[3.1413, 3.1419]\n",
            "\n",
            "b. Valor de p = e\n",
            "El intervalo más largo en el que p* debe encontrarse para aproximar e con un error relativo máximo de 10^-4 es:\n",
            "[2.7180, 2.7186]\n",
            "\n",
            "c. Valor de p = √2\n",
            "El intervalo más largo en el que p* debe encontrarse para aproximar √2 con un error relativo máximo de 10^-4 es:\n",
            "[1.4141, 1.4144]\n",
            "\n",
            "d. Valor de p = √7\n",
            "El intervalo más largo en el que p* debe encontrarse para aproximar √7 con un error relativo máximo de 10^-4 es:\n",
            "[2.6455, 2.6460]\n"
          ]
        }
      ]
    },
    {
      "cell_type": "markdown",
      "source": [
        "## Ejercicio 4\n",
        "---\n",
        "* Use la aritmética de redondeo de tres dígitos para realizar lo siguiente. Calcule los errores absoluto y relativo con el valor exacto determinado para por lo menos cinco dígitos.\n",
        "* Este código calcula los errores absoluto y relativo para las aproximaciones dadas en el cuarto enunciado, utilizando la aritmética de redondeo de tres dígitos. Los resultados se presentan para cada valor con la precisión requerida.\n",
        "\n"
      ],
      "metadata": {
        "id": "3bhhiaP3HzcO"
      }
    },
    {
      "cell_type": "code",
      "source": [
        "import math\n",
        "\n",
        "# Función para redondear a tres dígitos\n",
        "def round_to_three_digits(num):\n",
        "    return round(num, 3)\n",
        "\n",
        "# Función para calcular el error absoluto\n",
        "def absolute_error(exact, approx):\n",
        "    return abs(exact - approx)\n",
        "\n",
        "# Función para calcular el error relativo\n",
        "def relative_error(exact, approx):\n",
        "    return absolute_error(exact, approx) / exact\n",
        "\n",
        "# Valores exactos con al menos cinco dígitos\n",
        "a_exact = 2.71828\n",
        "b_exact = -10*math.pi + 6*math.e\n",
        "c_exact = math.sqrt(2) * math.pi\n",
        "d_exact = math.sqrt(7) * math.sqrt(7)\n",
        "\n",
        "# Valores aproximados con redondeo a tres dígitos\n",
        "a_approx = round_to_three_digits(math.exp(1))\n",
        "b_approx = round_to_three_digits(-10*math.pi + 6*math.e)\n",
        "c_approx = round_to_three_digits(math.sqrt(2) * math.pi)\n",
        "d_approx = round_to_three_digits(math.sqrt(7) * math.sqrt(7))\n",
        "\n",
        "# Calcular errores absolutos y relativos\n",
        "a_abs_error = absolute_error(a_exact, a_approx)\n",
        "a_rel_error = relative_error(a_exact, a_approx)\n",
        "\n",
        "b_abs_error = absolute_error(b_exact, b_approx)\n",
        "b_rel_error = relative_error(b_exact, b_approx)\n",
        "\n",
        "c_abs_error = absolute_error(c_exact, c_approx)\n",
        "c_rel_error = relative_error(c_exact, c_approx)\n",
        "\n",
        "d_abs_error = absolute_error(d_exact, d_approx)\n",
        "d_rel_error = relative_error(d_exact, d_approx)\n",
        "\n",
        "# Imprimir resultados\n",
        "print(\"a. Error absoluto y relativo para e:\")\n",
        "print(f\"Error absoluto: {a_abs_error:.4f}\")\n",
        "print(f\"Error relativo: {a_rel_error:.4f}\")\n",
        "\n",
        "print(\"\\nb. Error absoluto y relativo para -10π + 6e:\")\n",
        "print(f\"Error absoluto: {b_abs_error:.4f}\")\n",
        "print(f\"Error relativo: {b_rel_error:.4f}\")\n",
        "\n",
        "print(\"\\nc. Error absoluto y relativo para √2π:\")\n",
        "print(f\"Error absoluto: {c_abs_error:.4f}\")\n",
        "print(f\"Error relativo: {c_rel_error:.4f}\")\n",
        "\n",
        "print(\"\\nd. Error absoluto y relativo para √7√7:\")\n",
        "print(f\"Error absoluto: {d_abs_error:.4f}\")\n",
        "print(f\"Error relativo: {d_rel_error:.4f}\")"
      ],
      "metadata": {
        "id": "aotXPtjcLYQw",
        "colab": {
          "base_uri": "https://localhost:8080/"
        },
        "outputId": "1bbe85cf-6853-4ada-d9b8-951388b969ed"
      },
      "execution_count": null,
      "outputs": [
        {
          "output_type": "stream",
          "name": "stdout",
          "text": [
            "a. Error absoluto y relativo para e:\n",
            "Error absoluto: 0.0003\n",
            "Error relativo: 0.0001\n",
            "\n",
            "b. Error absoluto y relativo para -10π + 6e:\n",
            "Error absoluto: 0.0002\n",
            "Error relativo: -0.0000\n",
            "\n",
            "c. Error absoluto y relativo para √2π:\n",
            "Error absoluto: 0.0001\n",
            "Error relativo: 0.0000\n",
            "\n",
            "d. Error absoluto y relativo para √7√7:\n",
            "Error absoluto: 0.0000\n",
            "Error relativo: 0.0000\n"
          ]
        }
      ]
    },
    {
      "cell_type": "markdown",
      "source": [
        "## Ejercicio 5\n",
        "---\n",
        "* Los primeros tres términos diferentes a cero de la serie de Maclaurin para la función arcotangente son: $x - (1/3)x^{3} + (1/5)x^{5}$ . Calcule los errores absoluto y relativo en las siguientes aproximaciones de 𝜋 mediante el polinomio en lugar del arcotangente:\n",
        "\n"
      ],
      "metadata": {
        "id": "Z9c2njZJHzlA"
      }
    },
    {
      "cell_type": "code",
      "source": [
        "import math\n",
        "\n",
        "# Función para calcular los primeros tres términos de la serie de Maclaurin para arcotangente\n",
        "def arctan_series(x, n):\n",
        "    terms = [x, -(1/3)*x**3, (1/5)*x**5]\n",
        "    return sum(terms[:n+1])\n",
        "\n",
        "# Función para calcular el error absoluto\n",
        "def absolute_error(exact, approx):\n",
        "    return abs(exact - approx)\n",
        "\n",
        "# Función para calcular el error relativo\n",
        "def relative_error(exact, approx):\n",
        "    return absolute_error(exact, approx) / exact\n",
        "\n",
        "# a. 4 [arctan(1/2) + arctan(1/3)]\n",
        "a_exact = 4 * (math.atan(1/2) + math.atan(1/3))\n",
        "a_approx = 4 * (arctan_series(1/2, 2) + arctan_series(1/3, 2))\n",
        "a_abs_error = absolute_error(a_exact, a_approx)\n",
        "a_rel_error = relative_error(a_exact, a_approx)\n",
        "print(\"a. 4 [arctan(1/2) + arctan(1/3)]\")\n",
        "print(f\"Error absoluto: {a_abs_error:.4f}\")\n",
        "print(f\"Error relativo: {a_rel_error:.4f}\")\n",
        "\n",
        "# b. 16 arctan(1/5) - 4 arctan(1/239)\n",
        "b_exact = 16 * math.atan(1/5) - 4 * math.atan(1/239)\n",
        "b_approx = 16 * arctan_series(1/5, 2) - 4 * arctan_series(1/239, 2)\n",
        "b_abs_error = absolute_error(b_exact, b_approx)\n",
        "b_rel_error = relative_error(b_exact, b_approx)\n",
        "print(\"\\nb. 16 arctan(1/5) - 4 arctan(1/239)\")\n",
        "print(f\"Error absoluto: {b_abs_error:.4f}\")\n",
        "print(f\"Error relativo: {b_rel_error:.4f}\")"
      ],
      "metadata": {
        "id": "Qm8kQE_rNQun",
        "outputId": "7d6cc1ac-7c43-4677-a0df-538d1a3934a6",
        "colab": {
          "base_uri": "https://localhost:8080/"
        }
      },
      "execution_count": null,
      "outputs": [
        {
          "output_type": "stream",
          "name": "stdout",
          "text": [
            "a. 4 [arctan(1/2) + arctan(1/3)]\n",
            "Error absoluto: 0.0040\n",
            "Error relativo: 0.0013\n",
            "\n",
            "b. 16 arctan(1/5) - 4 arctan(1/239)\n",
            "Error absoluto: 0.0000\n",
            "Error relativo: 0.0000\n"
          ]
        }
      ]
    },
    {
      "cell_type": "markdown",
      "source": [
        "## Ejercicio 6\n",
        "---\n",
        "* El número $e$ se puede definir mediante la serie infinita:\n",
        "$e = \\sum_{n=0}^{\\infty} \\frac{1}{n!}$\n",
        "donde $n! = n(n-1)\\cdots 2 \\cdot 1$ para $n \\neq 0$, y $0! = 1$.\n",
        "Calcule los errores absoluto y relativo en las siguientes aproximaciones de $e$.\n"
      ],
      "metadata": {
        "id": "8_U-2dZzHztV"
      }
    },
    {
      "cell_type": "code",
      "source": [
        "import math\n",
        "\n",
        "# Función para calcular el número e utilizando una serie definida\n",
        "def calculate_e(n):\n",
        "    e = sum(1/math.factorial(i) for i in range(n+1))\n",
        "    return e\n",
        "\n",
        "# Función para calcular el error absoluto\n",
        "def absolute_error(exact, approx):\n",
        "    return abs(exact - approx)\n",
        "\n",
        "# Función para calcular el error relativo\n",
        "def relative_error(exact, approx):\n",
        "    return absolute_error(exact, approx) / exact\n",
        "\n",
        "# Valor exacto de e\n",
        "e_exact = math.e\n",
        "\n",
        "# a. ∑(1/n!), n=0 to 10\n",
        "e_approx_a = calculate_e(10)\n",
        "e_abs_error_a = absolute_error(e_exact, e_approx_a)\n",
        "e_rel_error_a = relative_error(e_exact, e_approx_a)\n",
        "\n",
        "# b. ∑(1/n!), n=0 to 5\n",
        "e_approx_b = calculate_e(5)\n",
        "e_abs_error_b = absolute_error(e_exact, e_approx_b)\n",
        "e_rel_error_b = relative_error(e_exact, e_approx_b)\n",
        "\n",
        "# Imprimir resultados\n",
        "print(\"a. ∑(1/n!), n=0 to 10\")\n",
        "print(f\"Valor aproximado de e: {e_approx_a:.4f}\")\n",
        "print(f\"Error absoluto: {e_abs_error_a:.4f}\")\n",
        "print(f\"Error relativo: {e_rel_error_a:.4f}\")\n",
        "\n",
        "print(\"\\nb. ∑(1/n!), n=0 to 5\")\n",
        "print(f\"Valor aproximado de e: {e_approx_b:.4f}\")\n",
        "print(f\"Error absoluto: {e_abs_error_b:.4f}\")\n",
        "print(f\"Error relativo: {e_rel_error_b:.4f}\")"
      ],
      "metadata": {
        "id": "Qb-somR3PGWU",
        "outputId": "c9dcd10d-ee65-4555-ab7c-d71cce856219",
        "colab": {
          "base_uri": "https://localhost:8080/"
        }
      },
      "execution_count": null,
      "outputs": [
        {
          "output_type": "stream",
          "name": "stdout",
          "text": [
            "a. ∑(1/n!), n=0 to 10\n",
            "Valor aproximado de e: 2.7183\n",
            "Error absoluto: 0.0000\n",
            "Error relativo: 0.0000\n",
            "\n",
            "b. ∑(1/n!), n=0 to 5\n",
            "Valor aproximado de e: 2.7167\n",
            "Error absoluto: 0.0016\n",
            "Error relativo: 0.0006\n"
          ]
        }
      ]
    },
    {
      "cell_type": "markdown",
      "source": [
        "## Ejercicio 7\n",
        "---\n",
        "* Suponga que dos puntos (𝑥ₘᵤ, 𝑦ₘᵤ) y (𝑥ₘᵥ, 𝑦ₘᵥ) se encuentran en línea recta con 𝑦ₘᵥ ≠ 𝑦ₘᵤ. Existen dos fórmulas para encontrar la intersección 𝑥 de la línea:\n",
        "$𝑥 = \\frac{(𝑥ₘᵤ - 𝑥ₘᵥ) \\cdot 𝑦ₘᵤ}{𝑦ₘᵤ - 𝑦ₘᵥ}$\n",
        "$𝑥 = 𝑥ₘᵤ - \\frac{(𝑦ₘᵤ - 𝑦ₘᵥ)}{(𝑥ₘᵤ - 𝑥ₘᵥ)}$\n",
        "Describa cuál método es más eficiente.\n",
        "a. Use los datos (𝑥ₘᵤ, 𝑦ₘᵤ) = (1.31, 3.24) y (𝑥ₘᵥ, 𝑦ₘᵥ) = (1.93, 5.76) y la aritmética de redondeo de tres dígitos para calcular la intersección con 𝑥 de ambas maneras. ¿Cuál método es mejor y por qué?\n",
        "\n"
      ],
      "metadata": {
        "id": "hoKYQ5HRHz2B"
      }
    },
    {
      "cell_type": "code",
      "source": [
        "# Definir los puntos de partida y llegada\n",
        "x1, y1 = 1.31, 3.24\n",
        "x2, y2 = 1.93, 5.76\n",
        "\n",
        "# Fórmula 1 para calcular la intersección\n",
        "def intersection_formula1(x1, y1, x2, y2):\n",
        "    denominator = y2 - y1\n",
        "    numerator = (x2 - x1) * y1 - (y2 - y1) * x1\n",
        "    return x1 - numerator / denominator\n",
        "\n",
        "# Fórmula 2 para calcular la intersección\n",
        "def intersection_formula2(x1, y1, x2, y2):\n",
        "    return x1 - (y2 - y1) / (x2 - x1)\n",
        "\n",
        "# Calcular la intersección utilizando ambas fórmulas\n",
        "x_intersection1 = intersection_formula1(x1, y1, x2, y2)\n",
        "x_intersection2 = intersection_formula2(x1, y1, x2, y2)\n",
        "\n",
        "# Comparar la eficiencia de las fórmulas\n",
        "if abs(x_intersection1 - x_intersection2) < 1e-6:\n",
        "    print(\"Ambas fórmulas son equivalentes.\")\n",
        "else:\n",
        "    print(\"La fórmula 1 es más eficiente.\")"
      ],
      "metadata": {
        "id": "3smUNLRgQCu-",
        "colab": {
          "base_uri": "https://localhost:8080/"
        },
        "outputId": "010bcbcd-d261-46a3-e3a8-b8ab38057511"
      },
      "execution_count": null,
      "outputs": [
        {
          "output_type": "stream",
          "name": "stdout",
          "text": [
            "La fórmula 1 es más eficiente.\n"
          ]
        }
      ]
    }
  ],
  "metadata": {
    "colab": {
      "provenance": [],
      "include_colab_link": true
    },
    "kernelspec": {
      "display_name": "Python 3",
      "name": "python3"
    }
  },
  "nbformat": 4,
  "nbformat_minor": 0
}