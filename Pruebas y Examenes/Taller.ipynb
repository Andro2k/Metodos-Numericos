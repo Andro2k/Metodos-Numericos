{
 "cells": [
  {
   "cell_type": "code",
   "execution_count": null,
   "metadata": {},
   "outputs": [],
   "source": [
    "import json\n",
    "import sys\n",
    "from collections import defaultdict\n",
    "\n",
    "def calculate_h_index(citations):\n",
    "    citations.sort(reverse=True)\n",
    "    h_index = 0\n",
    "    for i, c in enumerate(citations):\n",
    "        if c >= i + 1:\n",
    "            h_index = i + 1\n",
    "        else:\n",
    "            break\n",
    "    return h_index\n",
    "\n",
    "def main():\n",
    "    input = sys.stdin.read\n",
    "    data = input().strip().split(\"\\n\")\n",
    "    \n",
    "    N = int(data[0])\n",
    "    articles = data[1:]\n",
    "    \n",
    "    author_citations = defaultdict(list)\n",
    "    \n",
    "    for article in articles:\n",
    "        article_json = json.loads(article)\n",
    "        citing_paper_count = article_json['citing_paper_count']\n",
    "        authors = article_json['authors']['authors']\n",
    "        \n",
    "        for author in authors:\n",
    "            full_name = author['full_name']\n",
    "            author_citations[full_name].append(citing_paper_count)\n",
    "    \n",
    "    author_h_indices = []\n",
    "    \n",
    "    for author, citations in author_citations.items():\n",
    "        h_index = calculate_h_index(citations)\n",
    "        author_h_indices.append((author, h_index))\n",
    "    \n",
    "    author_h_indices.sort(key=lambda x: (-x[1], x[0]))\n",
    "    \n",
    "    for author, h_index in author_h_indices:\n",
    "        print(f\"{author} {h_index}\")\n",
    "\n",
    "if __name__ == \"__main__\":\n",
    "    main()"
   ]
  },
  {
   "cell_type": "code",
   "execution_count": null,
   "metadata": {},
   "outputs": [],
   "source": []
  },
  {
   "cell_type": "code",
   "execution_count": null,
   "metadata": {},
   "outputs": [],
   "source": []
  }
 ],
 "metadata": {
  "language_info": {
   "name": "python"
  }
 },
 "nbformat": 4,
 "nbformat_minor": 2
}
