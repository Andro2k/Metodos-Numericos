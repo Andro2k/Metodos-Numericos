{
  "nbformat": 4,
  "nbformat_minor": 0,
  "metadata": {
    "colab": {
      "provenance": [],
      "collapsed_sections": [
        "mYtleVAreG0Z"
      ],
      "authorship_tag": "ABX9TyMLXdkp7bNsetJpKdYfme4d",
      "include_colab_link": true
    },
    "kernelspec": {
      "name": "python3",
      "display_name": "Python 3"
    },
    "language_info": {
      "name": "python"
    }
  },
  "cells": [
    {
      "cell_type": "markdown",
      "metadata": {
        "id": "view-in-github",
        "colab_type": "text"
      },
      "source": [
        "<a href=\"https://colab.research.google.com/github/Andro2k/Metodos-Numericos/blob/main/Prueba_2_Andino.ipynb\" target=\"_parent\"><img src=\"https://colab.research.google.com/assets/colab-badge.svg\" alt=\"Open In Colab\"/></a>"
      ]
    },
    {
      "cell_type": "markdown",
      "source": [
        "# **Minimos Cuadrados**"
      ],
      "metadata": {
        "id": "mYtleVAreG0Z"
      }
    },
    {
      "cell_type": "code",
      "execution_count": null,
      "metadata": {
        "id": "ZsP03DPCbbDg"
      },
      "outputs": [],
      "source": [
        "from typing import Callable # Import the Callable type hint\n",
        "\n",
        "# ####################################################################\n",
        "def ajustar_min_cuadrados(\n",
        "    xs: list,\n",
        "    ys: list,\n",
        "    gradiente: list[Callable[[list[float], list[float]], tuple]], # Now Callable is defined\n",
        ") -> None:\n",
        "    assert len(xs) == len(ys), \"xs y ys deben tener la misma longitud.\"\n",
        "    n = len(xs)\n",
        "    num_pars = len(gradiente)\n",
        "    Ab = np.zeros((num_pars, num_pars + 1), dtype=float)\n",
        "    for i, der_parcial in enumerate(gradiente):\n",
        "        assert callable(der_parcial), \"Cada derivada parcial debe ser una función.\"\n",
        "        Ab[i, :] = der_parcial(xs, ys)\n",
        "    params, _, _, _ = np.linalg.lstsq(Ab[:, :-1], Ab[:, -1], rcond=None)\n",
        "    return params"
      ]
    },
    {
      "cell_type": "code",
      "source": [
        "import numpy as np\n",
        "import matplotlib.pyplot as plt\n",
        "\n",
        "# Conjunto de datos 2\n",
        "xs2 = [\n",
        "    -5.0000,\n",
        "    -3.8889,\n",
        "    -2.7778,\n",
        "    -1.6667,\n",
        "    -0.5556,\n",
        "    0.5556,\n",
        "    1.6667,\n",
        "    2.7778,\n",
        "    3.8889,\n",
        "    5.0000,\n",
        "]\n",
        "ys2 = [\n",
        "    57.2441,\n",
        "    33.0303,\n",
        "    16.4817,\n",
        "    7.0299,\n",
        "    0.5498,\n",
        "    0.7117,\n",
        "    3.4185,\n",
        "    12.1767,\n",
        "    24.9167,\n",
        "    44.2495,\n",
        "]\n",
        "\n",
        "# Definición de nuevas derivadas parciales\n",
        "def der_parcial_2(xs: list, ys: list) -> tuple[float, float, float, float]:\n",
        "    c_2 = sum(x**4 for x in xs)\n",
        "    c_1 = sum(x**3 for x in xs)\n",
        "    c_0 = sum(x**2 for x in xs)\n",
        "    c_ind = sum(y * x**2 for x, y in zip(xs, ys))\n",
        "    return c_2, c_1, c_0, c_ind\n",
        "\n",
        "def der_parcial_1(xs: list, ys: list) -> tuple[float, float, float, float]:\n",
        "    c_2 = sum(x**3 for x in xs)\n",
        "    c_1 = sum(x**2 for x in xs)\n",
        "    c_0 = sum(xs)\n",
        "    c_ind = sum(y * x for x, y in zip(xs, ys))\n",
        "    return c_2, c_1, c_0, c_ind\n",
        "\n",
        "def der_parcial_0(xs: list, ys: list) -> tuple[float, float, float, float]:\n",
        "    c_2 = sum(x**2 for x in xs)\n",
        "    c_1 = sum(xs)\n",
        "    c_0 = len(xs)\n",
        "    c_ind = sum(ys)\n",
        "    return c_2, c_1, c_0, c_ind\n",
        "\n",
        "# Función de la parábola\n",
        "def parabola(x: float, pars: tuple[float]) -> float:\n",
        "    a2, a1, a0 = pars\n",
        "    return a2 * x**2 + a1 * x + a0\n",
        "\n",
        "# Ajuste de los datos a una parábola\n",
        "pars = ajustar_min_cuadrados(xs2, ys2, gradiente=[der_parcial_2, der_parcial_1, der_parcial_0])\n",
        "print(pars) # parámetros de la curva ajustada\n",
        "\n",
        "# Graficar la función cuadrática ajustada y los puntos dados\n",
        "x = np.linspace(-5, 5, 100)\n",
        "y = [parabola(xi, pars) for xi in x]\n",
        "\n",
        "plt.scatter(xs2, ys2, label=\"Datos\")\n",
        "plt.plot(x, y, color=\"red\", label=r\"$ y = a_2 x^2 + a_1 x + a_0 $\")\n",
        "plt.xlabel(\"x\")\n",
        "plt.ylabel(\"y\")\n",
        "plt.title(\"Ajuste por mínimos cuadrados\")\n",
        "plt.legend()\n",
        "\n",
        "# Ajustar los ticks de los ejes\n",
        "plt.xticks(np.arange(-5, 6, 1))  # De -5 a 5 con incrementos de 1 en 1\n",
        "plt.yticks(np.arange(0, 70, 10))  # De 0 a 70 con incrementos de 10 en 10\n",
        "\n",
        "plt.show()\n"
      ],
      "metadata": {
        "colab": {
          "base_uri": "https://localhost:8080/",
          "height": 489
        },
        "id": "hbhU8c7vfO2O",
        "outputId": "1b6bb973-c9cc-46ce-cb42-3a03c4c8da21"
      },
      "execution_count": null,
      "outputs": [
        {
          "output_type": "stream",
          "name": "stdout",
          "text": [
            "[ 2.02441048 -1.12332513 -0.63825562]\n"
          ]
        },
        {
          "output_type": "display_data",
          "data": {
            "text/plain": [
              "<Figure size 640x480 with 1 Axes>"
            ],
            "image/png": "[encoded data removed]"
          },
          "metadata": {}
        }
      ]
    },
    {
      "cell_type": "markdown",
      "source": [
        "# **Determinante**"
      ],
      "metadata": {
        "id": "VrNnU-27kOFf"
      }
    },
    {
      "cell_type": "code",
      "source": [
        "import numpy as np\n",
        "\n",
        "# Definir las matrices\n",
        "A = np.array([\n",
        "    [-4, 2, -4, -4, 1, 2, 5, 3, 5, 1],\n",
        "    [1, 0, 4, 3, 0, -2, 3, 0, 1, 5],\n",
        "    [5, 5, -4, 5, -4, 2, 2, 2, 4, 4],\n",
        "    [-1, 3, 4, -1, -4, 0, 5, 0, 0, 5],\n",
        "    [4, 1, 4, 2, 0, 0, 3, -1, 0, 2],\n",
        "    [2, -2, 1, -1, -2, -3, 2, -2, 4, -1],\n",
        "    [3, -2, -3, -2, -1, -3, 5, -1, 5, 0],\n",
        "    [3, 4, -3, 3, -2, 2, -4, -4, 1, 5],\n",
        "    [-4, 0, 3, 3, -3, -2, -2, 0, 5, -4],\n",
        "    [-2, 4, 4, -2, -1, 1, 5, -1, 3, -3]\n",
        "])\n",
        "\n",
        "A2 = np.array([\n",
        "    [2, 2, 4, 5, -2, -3, 2, -2],\n",
        "    [-1, -1, 3, 2, 1, 1, -4, 4],\n",
        "    [2, 5, -3, -3, -2, 2, 5, 3],\n",
        "    [-2, -4, 0, 1, -1, 5, -4, -1],\n",
        "    [1, -2, -1, 5, 5, 2, 1, -2],\n",
        "    [5, 4, 0, 3, 4, -1, -3, -2],\n",
        "    [4, -4, 1, 2, 3, 3, -1, 3],\n",
        "    [-2, 1, -3, 0, 5, 4, 4, -4]\n",
        "])\n",
        "\n",
        "# Calcular los determinantes\n",
        "detA = np.linalg.det(A)\n",
        "detA2 = np.linalg.det(A2)\n",
        "\n",
        "# Imprimir los resultados\n",
        "print(f\"detA = {detA:.9f}\")\n",
        "print(f\"detA2 = {detA2:.9f}\")\n",
        "\n",
        "# Determinar el tipo de solución\n",
        "def tipo_solucion(determinante):\n",
        "    if determinante != 0:\n",
        "        return \"solución única\"\n",
        "    else:\n",
        "        return \"singular\"\n",
        "\n",
        "print(f\"Tipo de solución del sistema con matriz A: {tipo_solucion(detA)}\")\n",
        "print(f\"Tipo de solución del sistema con matriz A2: {tipo_solucion(detA2)}\")\n"
      ],
      "metadata": {
        "id": "FLf0d16rkNHG",
        "colab": {
          "base_uri": "https://localhost:8080/"
        },
        "outputId": "1e2357d5-b454-4fde-e6e9-6186a556c922"
      },
      "execution_count": 65,
      "outputs": [
        {
          "output_type": "stream",
          "name": "stdout",
          "text": [
            "detA = 9912775.999999950\n",
            "detA2 = 2341545.999999998\n",
            "Tipo de solución del sistema con matriz A: solución única\n",
            "Tipo de solución del sistema con matriz A2: solución única\n"
          ]
        }
      ]
    },
    {
      "cell_type": "code",
      "source": [
        "import numpy as np\n",
        "from scipy.linalg import lu, solve_triangular\n",
        "\n",
        "def ingresar_matriz_filas(tamaño, nombre):\n",
        "    matriz = np.zeros((tamaño, tamaño))\n",
        "    print(f\"Ingresar fila por fila los elementos de la matriz {nombre}:\")\n",
        "    for i in range(tamaño):\n",
        "        fila = input(f\"Fila {i+1} (separar elementos con espacios): \").split()\n",
        "        matriz[i, :] = [float(num) for num in fila]\n",
        "    return matriz\n",
        "\n",
        "def ingresar_vector(tamaño):\n",
        "    vector = np.zeros((tamaño, 1))\n",
        "    print(f\"Ingresar elementos del vector columna b (separar elementos con espacios):\")\n",
        "    elementos = input().split()\n",
        "    vector[:, 0] = [float(num) for num in elementos]\n",
        "    return vector\n",
        "\n",
        "def calc_determinante(A):\n",
        "    \"\"\"Función que calcula el determinante usando el método\n",
        "    de Descomposición LU.\n",
        "\n",
        "    ## Parameters\n",
        "    `A`: Matriz cuadrada de tamaño n x n\n",
        "\n",
        "    ## Return\n",
        "    `detA`: Determinante de la matriz A\n",
        "    \"\"\"\n",
        "    # Descomponer la matriz A en P, L y U\n",
        "    P, L, U = lu(A)\n",
        "\n",
        "    # El determinante de A es el producto de los elementos en la diagonal de U\n",
        "    detU = np.prod(np.diag(U))\n",
        "\n",
        "    # El determinante de P es (-1)^k donde k es el número de permutaciones\n",
        "    # Como P es una matriz de permutación, el determinante de P puede ser +1 o -1\n",
        "    detP = np.linalg.det(P)\n",
        "\n",
        "    detA = detP * detU\n",
        "    return detA\n",
        "\n",
        "def resolver_sistema():\n",
        "    n = int(input(\"Ingrese el tamaño de la matriz (n x n): \"))\n",
        "\n",
        "    A = ingresar_matriz_filas(n, \"A\")\n",
        "    b = ingresar_vector(n)\n",
        "\n",
        "    print(\"\\nMatriz A ingresada:\")\n",
        "    print(A)\n",
        "    print(\"\\nVector columna b ingresado:\")\n",
        "    print(b)\n",
        "\n",
        "    # Calcular el determinante de A\n",
        "    detA = calc_determinante(A)\n",
        "    print(f\"\\nDeterminante de A: {detA}\")\n",
        "\n",
        "    if detA == 0:\n",
        "        print(\"La matriz A es singular y no se puede resolver el sistema.\")\n",
        "        return\n",
        "\n",
        "    # Descomposición LU\n",
        "    P, L, U = lu(A)\n",
        "\n",
        "    print(\"\\nMatriz L resultante de la descomposición LU:\")\n",
        "    print(L)\n",
        "    print(\"\\nMatriz U resultante de la descomposición LU:\")\n",
        "    print(U)\n",
        "\n",
        "    # Resolver Ly = Pb\n",
        "    Pb = np.dot(P, b)\n",
        "    y = solve_triangular(L, Pb, lower=True)\n",
        "    print(\"\\nSolución intermedia y del sistema Ly = Pb es:\")\n",
        "    print(y)\n",
        "\n",
        "    # Resolver Ux = y\n",
        "    x = solve_triangular(U, y)\n",
        "    print(\"\\nSolución final x del sistema Ux = y es:\")\n",
        "    print(x)\n",
        "\n",
        "if __name__ == \"__main__\":\n",
        "    resolver_sistema()\n"
      ],
      "metadata": {
        "colab": {
          "base_uri": "https://localhost:8080/"
        },
        "id": "a0cz_U_Iy0NS",
        "outputId": "82c18844-3049-4e39-e68b-af3975f69563"
      },
      "execution_count": 64,
      "outputs": [
        {
          "output_type": "stream",
          "name": "stdout",
          "text": [
            "Ingrese el tamaño de la matriz (n x n): 4\n",
            "Ingresar fila por fila los elementos de la matriz A:\n",
            "Fila 1 (separar elementos con espacios): 1 1 -1 2\n",
            "Fila 2 (separar elementos con espacios): 2   2   4   5\n",
            "Fila 3 (separar elementos con espacios): 1   -1  1   7\n",
            "Fila 4 (separar elementos con espacios): 2   3   4   6\n",
            "Ingresar elementos del vector columna b (separar elementos con espacios):\n",
            "1 1 1 1\n",
            "\n",
            "Matriz A ingresada:\n",
            "[[ 1.  1. -1.  2.]\n",
            " [ 2.  2.  4.  5.]\n",
            " [ 1. -1.  1.  7.]\n",
            " [ 2.  3.  4.  6.]]\n",
            "\n",
            "Vector columna b ingresado:\n",
            "[[1.]\n",
            " [1.]\n",
            " [1.]\n",
            " [1.]]\n",
            "\n",
            "Determinante de A: 40.0\n",
            "\n",
            "Matriz L resultante de la descomposición LU:\n",
            "[[ 1.          0.          0.          0.        ]\n",
            " [ 0.5         1.          0.          0.        ]\n",
            " [ 0.5        -0.          1.          0.        ]\n",
            " [ 1.         -0.5         0.16666667  1.        ]]\n",
            "\n",
            "Matriz U resultante de la descomposición LU:\n",
            "[[ 2.          2.          4.          5.        ]\n",
            " [ 0.         -2.         -1.          4.5       ]\n",
            " [ 0.          0.         -3.         -0.5       ]\n",
            " [ 0.          0.          0.          3.33333333]]\n",
            "\n",
            "Solución intermedia y del sistema Ly = Pb es:\n",
            "[[1.        ]\n",
            " [0.5       ]\n",
            " [0.5       ]\n",
            " [0.16666667]]\n",
            "\n",
            "Solución final x del sistema Ux = y es:\n",
            "[[ 0.775]\n",
            " [-0.05 ]\n",
            " [-0.175]\n",
            " [ 0.05 ]]\n"
          ]
        }
      ]
    },
    {
      "cell_type": "code",
      "source": [
        "calc_determinante(A)"
      ],
      "metadata": {
        "id": "Zig5THScy3H5"
      },
      "execution_count": null,
      "outputs": []
    },
    {
      "cell_type": "markdown",
      "source": [
        "# **Gauss-Jacobi y Gauss-Seidel**"
      ],
      "metadata": {
        "id": "e0_e4kcE08ob"
      }
    },
    {
      "cell_type": "code",
      "source": [
        "import numpy as np\n",
        "import matplotlib.pyplot as plt\n",
        "\n",
        "def gauss_jacobi(a, b, x0, tolerancia, max_iteraciones):\n",
        "    n = len(a)\n",
        "    x = np.array(x0)\n",
        "    iteraciones = [x.copy()]\n",
        "\n",
        "    for k in range(max_iteraciones):\n",
        "        x_new = np.copy(x)\n",
        "        for i in range(n):\n",
        "            suma = sum(a[i][j] * x[j] for j in range(n) if j != i)\n",
        "            x_new[i] = (b[i] - suma) / a[i][i]\n",
        "        iteraciones.append(x_new.copy())\n",
        "\n",
        "        # Comprobar convergencia\n",
        "        if np.all(np.abs(x_new - x) < tolerancia):\n",
        "            print(f'Convergió en {k + 1} iteraciones.')\n",
        "            mostrar_tabla_markdown(iteraciones)\n",
        "            plot_trajectory(np.array(iteraciones), 'Gauss-Jacobi')\n",
        "            return x_new\n",
        "        x = x_new\n",
        "    print('No convergió dentro del número máximo de iteraciones.')\n",
        "    mostrar_tabla_markdown(iteraciones)\n",
        "    plot_trajectory(np.array(iteraciones), 'Gauss-Jacobi')\n",
        "    return x\n",
        "\n",
        "def gauss_seidel(a, b, x0, tolerancia, max_iteraciones):\n",
        "    n = len(a)\n",
        "    x = np.array(x0)\n",
        "    iteraciones = [x.copy()]\n",
        "\n",
        "    for k in range(max_iteraciones):\n",
        "        x_old = np.copy(x)\n",
        "        for i in range(n):\n",
        "            suma = sum(a[i][j] * x[j] for j in range(n) if j != i)\n",
        "            x[i] = (b[i] - suma) / a[i][i]\n",
        "        iteraciones.append(x.copy())\n",
        "\n",
        "        # Comprobar convergencia\n",
        "        if np.all(np.abs(x - x_old) < tolerancia):\n",
        "            print(f'Convergió en {k + 1} iteraciones.')\n",
        "            mostrar_tabla_markdown(iteraciones)\n",
        "            plot_trajectory(np.array(iteraciones), 'Gauss-Seidel')\n",
        "            return x\n",
        "    print('No convergió dentro del número máximo de iteraciones.')\n",
        "    mostrar_tabla_markdown(iteraciones)\n",
        "    plot_trajectory(np.array(iteraciones), 'Gauss-Seidel')\n",
        "    return x\n",
        "\n",
        "def mostrar_tabla_markdown(iteraciones):\n",
        "    n = len(iteraciones[0])\n",
        "    tabla = \"|-kth-| \" + \" | \".join([f\"x{i+1}\" for i in range(n)]) + \" |\\n\"\n",
        "    tabla += \"| --- \" * (n + 1) + \"|\\n\"\n",
        "    for k, xk in enumerate(iteraciones):\n",
        "        tabla += f\"| {k} | \" + \" | \".join([f\"{xi:.5f}\" for xi in xk]) + \" |\\n\"\n",
        "    print(tabla)\n",
        "\n",
        "def plot_trajectory(trajectory, method_name):\n",
        "    plt.plot(trajectory[:, 0], trajectory[:, 1], marker='o', linestyle='-', label=f'{method_name}')\n",
        "    plt.xlabel('x1')\n",
        "    plt.ylabel('x2')\n",
        "    plt.title(f'Trayectoria del método de {method_name}')\n",
        "    plt.legend()\n",
        "    plt.grid(True)\n",
        "    plt.show()\n",
        "\n",
        "def ingresar_matrices_y_vector(n):\n",
        "    print(f'Ingresa los coeficientes de la matriz A de tamaño {n}x{n}:')\n",
        "    a = []\n",
        "    for i in range(n):\n",
        "        while True:\n",
        "            fila = list(map(float, input(f'Fila {i + 1}: ').split()))\n",
        "            if len(fila) == n:\n",
        "                break\n",
        "            print(f'Error: La fila debe contener {n} elementos.')\n",
        "        a.append(fila)\n",
        "    print('Ingresa el vector de constantes b:')\n",
        "    while True:\n",
        "        b = list(map(float, input().split()))\n",
        "        if len(b) == n:\n",
        "            break\n",
        "        print(f'Error: El vector debe contener {n} elementos.')\n",
        "    return a, b\n",
        "\n",
        "def main():\n",
        "    n = int(input('Ingresa el número de ecuaciones: '))\n",
        "    a, b = ingresar_matrices_y_vector(n)\n",
        "\n",
        "    x0 = [0] * n  # Estimación inicial\n",
        "    tolerancia = 1e-10\n",
        "    max_iteraciones = 1000\n",
        "\n",
        "    print('Selecciona el método:')\n",
        "    print('1: Gauss-Jacobi')\n",
        "    print('2: Gauss-Seidel')\n",
        "    metodo = int(input())\n",
        "\n",
        "    if metodo == 1:\n",
        "        print('Método de Gauss-Jacobi seleccionado.')\n",
        "        solucion = gauss_jacobi(a, b, x0, tolerancia, max_iteraciones)\n",
        "    elif metodo == 2:\n",
        "        print('Método de Gauss-Seidel seleccionado.')\n",
        "        solucion = gauss_seidel(a, b, x0, tolerancia, max_iteraciones)\n",
        "    else:\n",
        "        print('Método no reconocido.')\n",
        "        return\n",
        "\n",
        "    print('Solución:')\n",
        "    for i in range(n):\n",
        "        print(f'x{i + 1} = {solucion[i]:.10f}')\n",
        "\n",
        "if __name__ == \"__main__\":\n",
        "    main()\n"
      ],
      "metadata": {
        "id": "Q-dyjLFK0-57",
        "colab": {
          "base_uri": "https://localhost:8080/",
          "height": 871
        },
        "outputId": "53a377b3-b4fc-4bc9-e487-6abe2a4ed91f"
      },
      "execution_count": 68,
      "outputs": [
        {
          "output_type": "stream",
          "name": "stdout",
          "text": [
            "Ingresa el número de ecuaciones: 2\n",
            "Ingresa los coeficientes de la matriz A de tamaño 2x2:\n",
            "Fila 1: 1 1\n",
            "Fila 2: -2 5\n",
            "Ingresa el vector de constantes b:\n",
            "7 0\n",
            "Selecciona el método:\n",
            "1: Gauss-Jacobi\n",
            "2: Gauss-Seidel\n",
            "1\n",
            "Método de Gauss-Jacobi seleccionado.\n",
            "Convergió en 4 iteraciones.\n",
            "|-kth-| x1 | x2 |\n",
            "| --- | --- | --- |\n",
            "| 0 | 0.00000 | 0.00000 |\n",
            "| 1 | 7.00000 | 0.00000 |\n",
            "| 2 | 7.00000 | 2.00000 |\n",
            "| 3 | 5.00000 | 2.00000 |\n",
            "| 4 | 5.00000 | 2.00000 |\n",
            "\n"
          ]
        },
        {
          "output_type": "display_data",
          "data": {
            "text/plain": [
              "<Figure size 640x480 with 1 Axes>"
            ],
            "image/png": "[encoded data removed]"
          },
          "metadata": {}
        },
        {
          "output_type": "stream",
          "name": "stdout",
          "text": [
            "Solución:\n",
            "x1 = 5.0000000000\n",
            "x2 = 2.0000000000\n"
          ]
        }
      ]
    }
  ]
}