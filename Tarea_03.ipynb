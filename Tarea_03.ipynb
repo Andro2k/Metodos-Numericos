{
  "nbformat": 4,
  "nbformat_minor": 0,
  "metadata": {
    "colab": {
      "provenance": [],
      "toc_visible": true,
      "authorship_tag": "ABX9TyOl4AH6miOimTbE+BynUfyZ",
      "include_colab_link": true
    },
    "kernelspec": {
      "name": "python3",
      "display_name": "Python 3"
    },
    "language_info": {
      "name": "python"
    }
  },
  "cells": [
    {
      "cell_type": "markdown",
      "metadata": {
        "id": "view-in-github",
        "colab_type": "text"
      },
      "source": [
        "<a href=\"https://colab.research.google.com/github/Andro2k/Metodos-Numericos/blob/main/Tarea_3.ipynb\" target=\"_parent\"><img src=\"https://colab.research.google.com/assets/colab-badge.svg\" alt=\"Open In Colab\"/></a>"
      ]
    },
    {
      "cell_type": "markdown",
      "source": [
        "# **Tarea 3**\n",
        "* **Estudiante:** Jose Luis Andino\n",
        "* **Materia:** Metodos Numericos\n",
        "* **Carrera:** Computación\n",
        "* **Docente:** Jonathan A. Zea\n"
      ],
      "metadata": {
        "id": "nA-ktYpIGmuR"
      }
    },
    {
      "cell_type": "markdown",
      "source": [
        "## **CONJUNTO DE EJERCICIOS 1.3**\n",
        "---"
      ],
      "metadata": {
        "id": "KGsTlVXoGmfk"
      }
    },
    {
      "cell_type": "markdown",
      "source": [
        "### **Ejercicio 1**\n",
        "* Utilice aritmética de corte de tres dígitos para calcular las siguientes sumas. Para cada parte, ¿qué método es más preciso y por qué?\n",
        "* a. $∑(1/i^2)$ para $i=1$ hasta $100$, primero por $1/1 + 1/4 + ⋯+ 1/100$ y luego por $1/100 + 1/81 + ⋯+ 1/1$\n",
        "\n",
        "* b. $∑(1/i^3)$ para $i=1$ hasta $10$, primero por $1/1 + 1/8 + 1/27 + ⋯+ 1/1000$ y luego por $1/1000 + 1/729 + ⋯+ 1/1$\n"
      ],
      "metadata": {
        "id": "aEZeoQc1ILW_"
      }
    },
    {
      "cell_type": "code",
      "source": [
        "def truncate_to_three_digits(x):\n",
        "    if x == 0:\n",
        "        return 0\n",
        "    else:\n",
        "        return round(x, 3 - len(str(int(x))))\n",
        "\n",
        "# Suma (a) Método 1\n",
        "sum1_a = 0\n",
        "for i in range(1, 101):\n",
        "    term = truncate_to_three_digits(1 / (i ** 2))\n",
        "    sum1_a = truncate_to_three_digits(sum1_a + term)\n",
        "print(\"Suma (a) Método 1:\", sum1_a)\n",
        "\n",
        "# Suma (a) Método 2\n",
        "sum2_a = 0\n",
        "for i in range(100, 0, -1):\n",
        "    term = truncate_to_three_digits(1 / (i ** 2))\n",
        "    sum2_a = truncate_to_three_digits(sum2_a + term)\n",
        "print(\"Suma (a) Método 2:\", sum2_a)\n",
        "\n",
        "# Suma (b) Método 1\n",
        "sum1_b = 0\n",
        "for i in range(1, 11):\n",
        "    term = truncate_to_three_digits(1 / (i ** 3))\n",
        "    sum1_b = truncate_to_three_digits(sum1_b + term)\n",
        "print(\"Suma (b) Método 1:\", sum1_b)\n",
        "\n",
        "# Suma (b) Método 2\n",
        "sum2_b = 0\n",
        "for i in range(10, 0, -1):\n",
        "    term = truncate_to_three_digits(1 / (i ** 3))\n",
        "    sum2_b = truncate_to_three_digits(sum2_b + term)\n",
        "print(\"Suma (b) Método 2:\", sum2_b)\n"
      ],
      "metadata": {
        "colab": {
          "base_uri": "https://localhost:8080/"
        },
        "id": "xnjDr0EEGmSs",
        "outputId": "8d1ec824-4abc-41a1-9420-55c0bffddc77"
      },
      "execution_count": null,
      "outputs": [
        {
          "output_type": "stream",
          "name": "stdout",
          "text": [
            "Suma (a) Método 1: 1.59\n",
            "Suma (a) Método 2: 1.59\n",
            "Suma (b) Método 1: 1.19\n",
            "Suma (b) Método 2: 1.19\n"
          ]
        }
      ]
    },
    {
      "cell_type": "markdown",
      "source": [
        "### **Ejercicio 2**\n",
        "* La serie de Maclaurin para la función arcotangente converge para -1 < x ≤ 1 y está dada por arctan $x = limn→∞ Pn(x) = lim n→∞ ∑((-1)^(i+1) x^(2i-1))/(2i-1)$ para $i=1$\n",
        "* a. Utilice el hecho de que tan$(π/4) = 1$ para determinar el número n de términos de la serie que se necesita sumar para garantizar que $|4Pn(1) - π| < 10^{-3}$\n",
        "* b. El lenguaje de programación C++ requiere que el valor de $π$ se encuentre dentro de $10^{-10}$. ¿Cuántos términos de la serie se necesitarían sumar para obtener este grado de precisión?"
      ],
      "metadata": {
        "id": "XwvKc7wxKDc7"
      }
    },
    {
      "cell_type": "code",
      "execution_count": null,
      "metadata": {
        "id": "4wjJmeJEGSY2"
      },
      "outputs": [],
      "source": [
        "import math\n",
        "from decimal import Decimal, getcontext\n",
        "\n",
        "# Configurar la precisión de la biblioteca decimal\n",
        "getcontext().prec = 50\n",
        "\n",
        "def arctan_series(x, tolerance):\n",
        "    \"\"\"Compute the arctan series approximation for a given x until the tolerance is met.\"\"\"\n",
        "    approx = Decimal(0)\n",
        "    term = Decimal(x)\n",
        "    i = 1\n",
        "    while abs(term) > tolerance:\n",
        "        term = ((-1) ** (i+1)) * (Decimal(x) ** (2*i-1)) / (2*i-1)\n",
        "        approx += term\n",
        "        i += 1\n",
        "    return approx, i\n",
        "\n",
        "# Parte (a): |4Pn(1) - π| < 10^-3\n",
        "tolerance_a = Decimal(10**-3)\n",
        "pi_actual = Decimal(math.pi)\n",
        "pi_approx = Decimal(0)\n",
        "x = Decimal(1)\n",
        "result, n_a = arctan_series(x, tolerance_a / 4)\n",
        "pi_approx = 4 * result\n",
        "print(f\"Parte (a): Número de términos necesarios para |4Pn(1) - π| < 10^-3: {n_a}\")\n",
        "\n",
        "# Parte (b): |4Pn(1) - π| < 10^-10\n",
        "tolerance_b = Decimal(10**-10)\n",
        "result, n_b = arctan_series(x, tolerance_b / 4)\n",
        "pi_approx = 4 * result\n",
        "print(f\"Parte (b): Número de términos necesarios para |4Pn(1) - π| < 10^-10: {n_b}\")\n"
      ]
    },
    {
      "cell_type": "markdown",
      "source": [
        "### **Ejercicio 3**\n",
        "* Otra fórmula para calcular π se puede deducir a partir de la identidad $π/4 = 4 arctan(1/5) - arctan(1/239)$. Determine el número de términos que se deben sumar para garantizar una aproximación de $π$ dentro de $10^{-3}$.\n"
      ],
      "metadata": {
        "id": "w3Zw7nCGOg9_"
      }
    },
    {
      "cell_type": "code",
      "source": [
        "import math\n",
        "from decimal import Decimal, getcontext\n",
        "\n",
        "# Configurar la precisión de la biblioteca decimal\n",
        "getcontext().prec = 50\n",
        "\n",
        "def arctan_series(x, tolerance):\n",
        "    \"\"\"Compute the arctan series approximation for a given x until the tolerance is met.\"\"\"\n",
        "    approx = Decimal(0)\n",
        "    term = Decimal(x)\n",
        "    i = 0\n",
        "    while abs(term) > tolerance:\n",
        "        term = ((-1) ** i) * (Decimal(x) ** (2*i+1)) / (2*i+1)\n",
        "        approx += term\n",
        "        i += 1\n",
        "    return approx, i\n",
        "\n",
        "# Parte (a): |π - π_approx| < 10^-3\n",
        "tolerance = Decimal(10**-3)\n",
        "x1 = Decimal(1)/Decimal(5)\n",
        "x2 = Decimal(1)/Decimal(239)\n",
        "\n",
        "pi_actual = Decimal(math.pi)\n",
        "pi_approx = Decimal(0)\n",
        "n1 = 0\n",
        "n2 = 0\n",
        "\n",
        "# Calculamos la primera serie 16 * arctan(1/5)\n",
        "result1, n1 = arctan_series(x1, tolerance/16)\n",
        "pi_approx = 16 * result1\n",
        "\n",
        "# Calculamos la segunda serie 4 * arctan(1/239)\n",
        "result2, n2 = arctan_series(x2, tolerance/4)\n",
        "pi_approx -= 4 * result2\n",
        "\n",
        "# Determinamos el número de términos\n",
        "n = max(n1, n2)\n",
        "\n",
        "print(f\"Número de términos necesarios para |π - π_approx| < 10^-3: {n}\")\n",
        "print(f\"Valor aproximado de π: {pi_approx}\")\n"
      ],
      "metadata": {
        "colab": {
          "base_uri": "https://localhost:8080/"
        },
        "id": "EX7BFH6IOvf_",
        "outputId": "c87f0d74-de49-45cc-a800-e7ac59e45872"
      },
      "execution_count": null,
      "outputs": [
        {
          "output_type": "stream",
          "name": "stdout",
          "text": [
            "Número de términos necesarios para |π - π_approx| < 10^-3: 4\n",
            "Valor aproximado de π: 3.1415917721832031714473882494363717552926337420297\n"
          ]
        }
      ]
    },
    {
      "cell_type": "markdown",
      "source": [
        "\n",
        "### **Ejercicio 4**\n",
        "* Compare los siguientes tres algoritmos. ¿Cuándo es correcto el algoritmo de la parte 1a?\n",
        "- a. ENTRADA n, x1, x2, ..., xn. SALIDA PRODUCT.\n",
        "> * Paso 1 Determine PRODUCT = 0.\n",
        "> * Paso 2 Para i = 1, 2, ..., n haga Determine PRODUCT = PRODUCT * xi.\n",
        "> * Paso 3 SALIDA PRODUCT; PARE.\n",
        "- b. ENTRADA n, x1, x2, ..., xn. SALIDA PRODUCT.\n",
        "> * Paso 1 Determine PRODUCT = 1.\n",
        "> * Paso 2 Para i = 1, 2, ..., n haga Set PRODUCT = PRODUCT * xi.\n",
        "> * Paso 3 SALIDA PRODUCT; PARE.\n",
        "- c. ENTRADA n, x1, x2, ..., xn. SALIDA PRODUCT.\n",
        "> * Paso 1 Determine PRODUCT = 1.\n",
        "> * Paso 2 Para i = 1, 2, ..., n haga\n",
        ">> ** si xi = 0 entonces determine PRODUCT = 0; > * SALIDA PRODUCT; PARE Determine PRODUCT = PRODUCT * xi.\n",
        "> * Paso 3 SALIDA PRODUCT; PARE.\n"
      ],
      "metadata": {
        "id": "8_UdqvtMOew3"
      }
    },
    {
      "cell_type": "markdown",
      "source": [
        "### **Ejercicio 5**\n",
        "* a. ¿Cuántas multiplicaciones y sumas se requieren para determinar una suma de la forma $∑∑(ai*bj)/(ij)$ para $i=1$ hasta $n$ y $j=1$ hasta $n$?\n",
        "* b. Modifique la suma en la parte a a un formato equivalente que reduzca el número de cálculos."
      ],
      "metadata": {
        "id": "1U2oLNemnacM"
      }
    },
    {
      "cell_type": "code",
      "source": [
        "def optimized_sum(a, b):\n",
        "    n = len(a)\n",
        "\n",
        "    # Calcula la suma parcial de a_i / i\n",
        "    sum_a = sum(a[i] / (i + 1) for i in range(n))\n",
        "\n",
        "    # Calcula la suma parcial de b_j / j\n",
        "    sum_b = sum(b[j] / (j + 1) for j in range(n))\n",
        "\n",
        "    # Multiplica los dos sumatorios\n",
        "    result = sum_a * sum_b\n",
        "\n",
        "    return result\n",
        "\n",
        "# Ejemplo de uso:\n",
        "a = [1, 2, 3]\n",
        "b = [4, 5, 6]\n",
        "print(optimized_sum(a, b))  # Salida esperada: un valor numérico correspondiente a la fórmula optimizada\n"
      ],
      "metadata": {
        "colab": {
          "base_uri": "https://localhost:8080/"
        },
        "id": "WvVMuTGRn39A",
        "outputId": "9df6a1d8-9fd9-41a2-a9c0-91c2c49c0985"
      },
      "execution_count": null,
      "outputs": [
        {
          "output_type": "stream",
          "name": "stdout",
          "text": [
            "25.5\n"
          ]
        }
      ]
    },
    {
      "cell_type": "markdown",
      "source": [
        "## **DISCUSIONES**\n",
        "---\n"
      ],
      "metadata": {
        "id": "ni-y9TheoNoD"
      }
    },
    {
      "cell_type": "markdown",
      "source": [
        "### **Ejercicio 2.1**\n"
      ],
      "metadata": {
        "id": "8eH5C3fpoVPT"
      }
    },
    {
      "cell_type": "code",
      "source": [
        "def sum_series_in_reverse(x):\n",
        "    n = len(x)\n",
        "    total_sum = 0\n",
        "    for i in range(n, 0, -1):\n",
        "        total_sum += x[i-1] / n\n",
        "    return total_sum\n",
        "\n",
        "# Ejemplo de uso:\n",
        "x = [1, 2, 3, 4, 5]\n",
        "print(sum_series_in_reverse(x))  # Salida esperada: 3.0 (la media de los elementos)\n"
      ],
      "metadata": {
        "colab": {
          "base_uri": "https://localhost:8080/"
        },
        "id": "GmGQkn-lodnA",
        "outputId": "da965696-6e7c-4d67-94db-4243572d48a2"
      },
      "execution_count": null,
      "outputs": [
        {
          "output_type": "stream",
          "name": "stdout",
          "text": [
            "3.0\n"
          ]
        }
      ]
    },
    {
      "cell_type": "markdown",
      "source": [
        "### **Ejercicio 2.2**"
      ],
      "metadata": {
        "id": "2ut95Cq5o7Xz"
      }
    },
    {
      "cell_type": "code",
      "source": [
        "import cmath\n",
        "\n",
        "def quadratic_roots(a, b, c):\n",
        "    discriminant = b**2 - 4*a*c\n",
        "\n",
        "    if discriminant >= 0:\n",
        "        sqrt_discriminant = cmath.sqrt(discriminant)\n",
        "    else:\n",
        "        sqrt_discriminant = cmath.sqrt(discriminant)\n",
        "\n",
        "    if b > 0:\n",
        "        x1 = (-b - sqrt_discriminant) / (2*a)\n",
        "    else:\n",
        "        x1 = (-b + sqrt_discriminant) / (2*a)\n",
        "\n",
        "    if x1 != 0:\n",
        "        x2 = c / (a * x1)\n",
        "    else:\n",
        "        x2 = (-b - sqrt_discriminant) / (2*a)\n",
        "\n",
        "    return x1, x2\n",
        "\n",
        "# Ejemplo de uso:\n",
        "a, b, c = 1, -3, 2\n",
        "x1, x2 = quadratic_roots(a, b, c)\n",
        "print(f\"Las raíces son: x1 = {x1}, x2 = {x2}\")\n"
      ],
      "metadata": {
        "colab": {
          "base_uri": "https://localhost:8080/"
        },
        "id": "jORwWtwvpEu-",
        "outputId": "c6f3ecee-5ee3-48cf-c0bb-0829b6210345"
      },
      "execution_count": null,
      "outputs": [
        {
          "output_type": "stream",
          "name": "stdout",
          "text": [
            "Las raíces son: x1 = (2+0j), x2 = (1+0j)\n"
          ]
        }
      ]
    },
    {
      "cell_type": "markdown",
      "source": [
        "### **Ejercicio 2.3**"
      ],
      "metadata": {
        "id": "BglI9A-5pCrs"
      }
    },
    {
      "cell_type": "code",
      "source": [
        "def left_side_series(x, tolerance=1e-6):\n",
        "    term = 2 * x / (1 + x + x**2)  # Changed formula to avoid overflow\n",
        "    sum_left = 1\n",
        "    power = 1\n",
        "    i = 0\n",
        "    while True:\n",
        "        if i % 2 == 0:\n",
        "            term = 2 * (x**power) / (1 - (x**power) + (x**(2*power)))\n",
        "            sum_left -= term\n",
        "        else:\n",
        "            term = 2 * (x**power) / (1 + (x**power) + (x**(2*power)))\n",
        "            sum_left += term\n",
        "\n",
        "        if abs(sum_left - (1 + (2 * x) / (1 + x + x**2))) < tolerance:\n",
        "            break\n",
        "\n",
        "        power = 2**(i + 1) - 1\n",
        "        i += 1\n",
        "\n",
        "    return i + 1  # Número de términos utilizados\n",
        "\n",
        "# Ejemplo de uso:\n",
        "x = 0.25\n",
        "tolerance = 1e-6\n",
        "num_terms = left_side_series(x, tolerance)\n",
        "print(f\"Número de términos necesarios: {num_terms}\")\n"
      ],
      "metadata": {
        "id": "2cfmaQ1QpFjM"
      },
      "execution_count": null,
      "outputs": []
    }
  ]
}