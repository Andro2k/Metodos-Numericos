{
  "nbformat": 4,
  "nbformat_minor": 0,
  "metadata": {
    "colab": {
      "provenance": [],
      "authorship_tag": "ABX9TyMGktV1uOmv5aEmUrp9yXwn",
      "include_colab_link": true
    },
    "kernelspec": {
      "name": "python3",
      "display_name": "Python 3"
    },
    "language_info": {
      "name": "python"
    }
  },
  "cells": [
    {
      "cell_type": "markdown",
      "metadata": {
        "id": "view-in-github",
        "colab_type": "text"
      },
      "source": [
        "<a href=\"https://colab.research.google.com/github/Andro2k/Metodos-Numericos/blob/main/Examen2.ipynb\" target=\"_parent\"><img src=\"https://colab.research.google.com/assets/colab-badge.svg\" alt=\"Open In Colab\"/></a>"
      ]
    },
    {
      "cell_type": "markdown",
      "source": [
        "# **Examen 2**"
      ],
      "metadata": {
        "id": "7jJbmLwi84PN"
      }
    },
    {
      "cell_type": "markdown",
      "source": [
        "## **Ejercicio 2**"
      ],
      "metadata": {
        "id": "anYCdDXv81A6"
      }
    },
    {
      "cell_type": "code",
      "source": [
        "import numpy as np\n",
        "\n",
        "# Coeficientes del polinomio\n",
        "coefficients = [1, -6, 2, 20, -27, 10]\n",
        "\n",
        "# Encontrar las raíces del polinomio\n",
        "roots = np.roots(coefficients)\n",
        "\n",
        "roots.sort()\n",
        "for i, root in enumerate(roots, start=1):\n",
        "    print(f\"x{i} = {root}\")\n"
      ],
      "metadata": {
        "colab": {
          "base_uri": "https://localhost:8080/"
        },
        "id": "wWNny2q49jNu",
        "outputId": "aa32ff87-2674-4902-f082-d304e4cec0ad"
      },
      "execution_count": null,
      "outputs": [
        {
          "output_type": "stream",
          "name": "stdout",
          "text": [
            "x1 = (-1.9999999999999998+0j)\n",
            "x2 = (0.9999957185960304-7.415641477653477e-06j)\n",
            "x3 = (0.9999957185960304+7.415641477653477e-06j)\n",
            "x4 = (1.000008562807938+0j)\n",
            "x5 = (4.999999999999993+0j)\n"
          ]
        }
      ]
    },
    {
      "cell_type": "markdown",
      "source": [
        "## **Ejercicio 3**"
      ],
      "metadata": {
        "id": "C1aAAnkO_W4y"
      }
    },
    {
      "cell_type": "code",
      "source": [
        "from typing import Callable # Import the Callable type hint\n",
        "\n",
        "# ####################################################################\n",
        "def ajustar_min_cuadrados(\n",
        "    xs: list,\n",
        "    ys: list,\n",
        "    gradiente: list[Callable[[list[float], list[float]], tuple]], # Now Callable is defined\n",
        ") -> None:\n",
        "    assert len(xs) == len(ys), \"xs y ys deben tener la misma longitud.\"\n",
        "    n = len(xs)\n",
        "    num_pars = len(gradiente)\n",
        "    Ab = np.zeros((num_pars, num_pars + 1), dtype=float)\n",
        "    for i, der_parcial in enumerate(gradiente):\n",
        "        assert callable(der_parcial), \"Cada derivada parcial debe ser una función.\"\n",
        "        Ab[i, :] = der_parcial(xs, ys)\n",
        "    params, _, _, _ = np.linalg.lstsq(Ab[:, :-1], Ab[:, -1], rcond=None)\n",
        "    return params"
      ],
      "metadata": {
        "id": "L_epqMNFCqkb"
      },
      "execution_count": null,
      "outputs": []
    },
    {
      "cell_type": "code",
      "source": [
        "import numpy as np\n",
        "import matplotlib.pyplot as plt\n",
        "\n",
        "# Implementación de las derivadas parciales para el ajuste cuadrático\n",
        "def der_parcial_0_parabol(xs: list, ys: list) -> tuple[float, float, float, float]:\n",
        "    c_2 = sum(x**2 for x in xs)\n",
        "    c_1 = sum(xs)\n",
        "    c_0 = len(xs)\n",
        "    c_ind = sum(ys)\n",
        "    return c_2, c_1, c_0, c_ind\n",
        "\n",
        "def der_parcial_1_parabol(xs: list, ys: list) -> tuple[float, float, float, float]:\n",
        "    c_2 = sum(x**3 for x in xs)\n",
        "    c_1 = sum(x**2 for x in xs)\n",
        "    c_0 = sum(xs)\n",
        "    c_ind = sum(y * x for x, y in zip(xs, ys))\n",
        "    return c_2, c_1, c_0, c_ind\n",
        "\n",
        "def der_parcial_2_parabol(xs: list, ys: list) -> tuple[float, float, float, float]:\n",
        "    c_2 = sum(x**4 for x in xs)\n",
        "    c_1 = sum(x**3 for x in xs)\n",
        "    c_0 = sum(x**2 for x in xs)\n",
        "    c_ind = sum(y * x**2 for x, y in zip(xs, ys))\n",
        "    return c_2, c_1, c_0, c_ind\n",
        "\n",
        "# Definición de la función parabólica\n",
        "def parabola(x: float, pars: tuple[float]) -> float:\n",
        "    a2, a1, a0 = pars\n",
        "    return a2 * x**2 + a1 * x + a0\n",
        "\n",
        "# Función para ajustar por mínimos cuadrados\n",
        "def ajustar_min_cuadrados(xs, ys, gradiente):\n",
        "    A = []\n",
        "    b = []\n",
        "    for grad in gradiente:\n",
        "        coef = grad(xs, ys)\n",
        "        A.append(coef[:-1])\n",
        "        b.append(coef[-1])\n",
        "\n",
        "    A = np.array(A)\n",
        "    b = np.array(b)\n",
        "\n",
        "    params = np.linalg.solve(A, b)\n",
        "\n",
        "    return tuple(params)\n",
        "\n",
        "# Conjunto de datos\n",
        "xs = [\n",
        "    1.1715, 1.3396, 1.4163, 1.9962, 2.2523, 2.2947, 2.5793, 2.7054, 2.7635, 2.8200,\n",
        "    3.0317, 3.5111, 3.5393, 3.9829, 4.0323, 4.1353, 4.2084, 4.4683, 4.6509, 4.7489,\n",
        "]\n",
        "ys = [\n",
        "    1.1902, 0.9564, 0.6078, -0.0856, -0.3550, 0.1355, -0.3171, -0.3425, -0.3758, -0.1518,\n",
        "    -0.2767, 0.6251, 0.6447, 2.2733, 2.1789, 2.6781, 2.3818, 3.3786, 4.4971, 5.1431,\n",
        "]\n",
        "\n",
        "# Ajuste de los datos a una parábola\n",
        "pars = ajustar_min_cuadrados(xs, ys, gradiente=[der_parcial_2_parabol, der_parcial_1_parabol, der_parcial_0_parabol])\n",
        "print(pars)  # parámetros de la curva ajustada\n",
        "\n",
        "# Graficar la función cuadrática ajustada y los puntos dados\n",
        "x = np.linspace(1, 5, 100)\n",
        "y = [parabola(xi, pars) for xi in x]\n",
        "\n",
        "plt.scatter(xs, ys, label=\"Datos\", color=\"blue\")\n",
        "plt.plot(x, y, color=\"red\", label=r\"$y = \\beta_0 + \\beta_1 x + \\beta_2 x^2$\")\n",
        "plt.xlabel(\"x\")\n",
        "plt.ylabel(\"y\")\n",
        "plt.title(\"Ajuste por mínimos cuadrados\")\n",
        "plt.legend()\n",
        "\n",
        "# Ajustar los ticks de los ejes\n",
        "plt.xticks(np.arange(1, 5, 0.5))\n",
        "plt.yticks(np.arange(-1, 7, 1))\n",
        "\n",
        "plt.show()\n"
      ],
      "metadata": {
        "colab": {
          "base_uri": "https://localhost:8080/",
          "height": 489
        },
        "id": "LS1cuJkhCroY",
        "outputId": "c72aacaa-c471-4b47-eb6c-f56adb4f1247"
      },
      "execution_count": null,
      "outputs": [
        {
          "output_type": "stream",
          "name": "stdout",
          "text": [
            "(1.0055015091220207, -4.946213605978655, 5.717269480297421)\n"
          ]
        },
        {
          "output_type": "display_data",
          "data": {
            "text/plain": [
              "<Figure size 640x480 with 1 Axes>"
            ],
            "image/png": "[encoded data removed]"
          },
          "metadata": {}
        }
      ]
    },
    {
      "cell_type": "markdown",
      "source": [
        "## **Ejercicio 5**"
      ],
      "metadata": {
        "id": "ZIg4hgnZFunm"
      }
    },
    {
      "cell_type": "code",
      "source": [
        "def inv_matrix(A: np.ndarray) -> np.ndarray:\n",
        "    \"\"\"Inversión de una matriz cuadrada mediante método de Gauss-Jordan.\n",
        "\n",
        "    ## Parameters\n",
        "    ``A``: matriz cuadrada de tamaño n x n.\n",
        "\n",
        "    ## Return\n",
        "    ``A_inv``: matriz inversa de A.\n",
        "    \"\"\"\n",
        "    n = A.shape[0]\n",
        "    # Crear la matriz identidad\n",
        "    I = np.eye(n)\n",
        "    # Crear la matriz aumentada [A | I]\n",
        "    Ab = np.hstack((A, I))\n",
        "\n",
        "    # Aplicar el método de Gauss-Jordan\n",
        "    for i in range(0, n):\n",
        "        # --- Encontrar pivote\n",
        "        p = None\n",
        "        for pi in range(i, n):\n",
        "            if Ab[pi, i] == 0:\n",
        "                continue\n",
        "            if p is None:\n",
        "                p = pi\n",
        "                continue\n",
        "            if abs(Ab[pi, i]) < abs(Ab[p, i]):\n",
        "                p = pi\n",
        "\n",
        "        if p is None:\n",
        "            raise ValueError(\"La matriz no es invertible.\")\n",
        "\n",
        "        if p != i:\n",
        "            # Intercambiar filas\n",
        "            _aux = Ab[i, :].copy()\n",
        "            Ab[i, :] = Ab[p, :].copy()\n",
        "            Ab[p, :] = _aux\n",
        "\n",
        "        # Normalizar fila\n",
        "        Ab[i, :] = Ab[i, :] / Ab[i, i]\n",
        "\n",
        "        # --- Eliminación: loop por fila\n",
        "        for j in range(n):\n",
        "            if i == j:\n",
        "                continue\n",
        "            m = Ab[j, i]\n",
        "            Ab[j, :] = Ab[j, :] - m * Ab[i, :]\n",
        "\n",
        "    # La matriz inversa está en el lado derecho de Ab\n",
        "    A_inv = Ab[:, n:]\n",
        "    return A_inv\n",
        "\n",
        "# Ejemplo de uso\n",
        "A = np.array([\n",
        "    [4, 0, 0, 5],\n",
        "    [1, 0, 4, 0],\n",
        "    [3, 4, 1, 3],\n",
        "    [1, 3, 3, 0],\n",
        "])\n",
        "print(inv_matrix(A))"
      ],
      "metadata": {
        "colab": {
          "base_uri": "https://localhost:8080/"
        },
        "id": "xtTUi_bmGWRa",
        "outputId": "f4d376cf-1643-42f8-af24-7163015a8c67"
      },
      "execution_count": null,
      "outputs": [
        {
          "output_type": "stream",
          "name": "stdout",
          "text": [
            "[[-36.  45.  60. -80.]\n",
            " [  3.  -4.  -5.   7.]\n",
            " [  9. -11. -15.  20.]\n",
            " [ 29. -36. -48.  64.]]\n"
          ]
        }
      ]
    },
    {
      "cell_type": "code",
      "source": [
        "A = np.array([\n",
        "    [0, 0, 0, 0, 0, 0, 1, -1],\n",
        "    [0, 1, -1, 1, 0, -1, 0, 1],\n",
        "    [-1, -1, 0, 0, 2, 1, 0, 0],\n",
        "    [-1, -1, -1, 1, 2, 0, 0, 1],\n",
        "    [-1, 1, 1, 0, -1, -1, 0, 2],\n",
        "    [0, 1, 0, 0, -1, -1, 0, 0],\n",
        "    [1, -1, -1, 1, 2, 1, 0, 2],\n",
        "    [2, 0, 0, 0, 0, 1, 2, 0],\n",
        "    [2, 0, 0, 0, 0, 1, 2, 0],\n",
        "])\n",
        "print(inv_matrix(A))\n"
      ],
      "metadata": {
        "colab": {
          "base_uri": "https://localhost:8080/",
          "height": 297
        },
        "id": "xj433-kvGZRj",
        "outputId": "f9a86093-3f1a-4f7e-80b9-bdcb81d31fa4"
      },
      "execution_count": null,
      "outputs": [
        {
          "output_type": "error",
          "ename": "ValueError",
          "evalue": "La matriz no es invertible.",
          "traceback": [
            "\u001b[0;31m---------------------------------------------------------------------------\u001b[0m",
            "\u001b[0;31mValueError\u001b[0m                                Traceback (most recent call last)",
            "\u001b[0;32m<ipython-input-82-1a64566b0804>\u001b[0m in \u001b[0;36m<cell line: 12>\u001b[0;34m()\u001b[0m\n\u001b[1;32m     10\u001b[0m     \u001b[0;34m[\u001b[0m\u001b[0;36m2\u001b[0m\u001b[0;34m,\u001b[0m \u001b[0;36m0\u001b[0m\u001b[0;34m,\u001b[0m \u001b[0;36m0\u001b[0m\u001b[0;34m,\u001b[0m \u001b[0;36m0\u001b[0m\u001b[0;34m,\u001b[0m \u001b[0;36m0\u001b[0m\u001b[0;34m,\u001b[0m \u001b[0;36m1\u001b[0m\u001b[0;34m,\u001b[0m \u001b[0;36m2\u001b[0m\u001b[0;34m,\u001b[0m \u001b[0;36m0\u001b[0m\u001b[0;34m]\u001b[0m\u001b[0;34m,\u001b[0m\u001b[0;34m\u001b[0m\u001b[0;34m\u001b[0m\u001b[0m\n\u001b[1;32m     11\u001b[0m ])\n\u001b[0;32m---> 12\u001b[0;31m \u001b[0mprint\u001b[0m\u001b[0;34m(\u001b[0m\u001b[0minv_matrix\u001b[0m\u001b[0;34m(\u001b[0m\u001b[0mA\u001b[0m\u001b[0;34m)\u001b[0m\u001b[0;34m)\u001b[0m\u001b[0;34m\u001b[0m\u001b[0;34m\u001b[0m\u001b[0m\n\u001b[0m",
            "\u001b[0;32m<ipython-input-77-bbe96a574459>\u001b[0m in \u001b[0;36minv_matrix\u001b[0;34m(A)\u001b[0m\n\u001b[1;32m     28\u001b[0m \u001b[0;34m\u001b[0m\u001b[0m\n\u001b[1;32m     29\u001b[0m         \u001b[0;32mif\u001b[0m \u001b[0mp\u001b[0m \u001b[0;32mis\u001b[0m \u001b[0;32mNone\u001b[0m\u001b[0;34m:\u001b[0m\u001b[0;34m\u001b[0m\u001b[0;34m\u001b[0m\u001b[0m\n\u001b[0;32m---> 30\u001b[0;31m             \u001b[0;32mraise\u001b[0m \u001b[0mValueError\u001b[0m\u001b[0;34m(\u001b[0m\u001b[0;34m\"La matriz no es invertible.\"\u001b[0m\u001b[0;34m)\u001b[0m\u001b[0;34m\u001b[0m\u001b[0;34m\u001b[0m\u001b[0m\n\u001b[0m\u001b[1;32m     31\u001b[0m \u001b[0;34m\u001b[0m\u001b[0m\n\u001b[1;32m     32\u001b[0m         \u001b[0;32mif\u001b[0m \u001b[0mp\u001b[0m \u001b[0;34m!=\u001b[0m \u001b[0mi\u001b[0m\u001b[0;34m:\u001b[0m\u001b[0;34m\u001b[0m\u001b[0;34m\u001b[0m\u001b[0m\n",
            "\u001b[0;31mValueError\u001b[0m: La matriz no es invertible."
          ]
        }
      ]
    },
    {
      "cell_type": "markdown",
      "source": [
        "## **Ejercicio 5**"
      ],
      "metadata": {
        "id": "pGYffKA0LdVc"
      }
    },
    {
      "cell_type": "code",
      "source": [
        "\n",
        "import numpy as np\n",
        "import matplotlib.pyplot as plt\n",
        "\n",
        "def euler_method(f, t0, y0, t_final, h):\n",
        "    \"\"\"\n",
        "    Método de Euler para aproximar la solución de una ODE de primer orden.\n",
        "\n",
        "    f: función que representa la derivada y'(t, y)\n",
        "    t0: valor inicial de t\n",
        "    y0: valor inicial de y\n",
        "    t_final: valor final de t\n",
        "    h: tamaño del paso\n",
        "\n",
        "    Retorna una lista de valores t y una lista de valores y aproximados.\n",
        "    \"\"\"\n",
        "    n = int((t_final - t0) / h) + 1\n",
        "    t_values = np.linspace(t0, t_final, n)\n",
        "    y_values = np.zeros(n)\n",
        "    y_values[0] = y0\n",
        "\n",
        "    for i in range(1, n):\n",
        "        y_values[i] = y_values[i-1] + h * f(t_values[i-1], y_values[i-1])\n",
        "\n",
        "    return t_values, y_values\n",
        "\n",
        "def plot_results(t_values, y_values, title):\n",
        "    \"\"\"\n",
        "    Función para graficar los resultados del método de Euler.\n",
        "\n",
        "    t_values: lista de valores t\n",
        "    y_values: lista de valores y\n",
        "    title: título del gráfico\n",
        "    \"\"\"\n",
        "    plt.plot(t_values, y_values, 'o-', label='Aproximación (Método de Euler)')\n",
        "    plt.xlabel('t')\n",
        "    plt.ylabel('y')\n",
        "    plt.title(title)\n",
        "    plt.legend()\n",
        "    plt.grid(True)\n",
        "    plt.show()"
      ],
      "metadata": {
        "id": "FGBAjlOwKF-O"
      },
      "execution_count": 83,
      "outputs": []
    },
    {
      "cell_type": "code",
      "source": [
        "\n",
        "# Definimos la función derivada para el primer caso\n",
        "def f_a(t, y):\n",
        "    return t * np.exp(3 * t) - 2 * y\n",
        "\n",
        "# Resolviendo con el método de Euler\n",
        "t_values_a, y_values_a = euler_method(f_a, t0=0, y0=0, t_final=1, h=0.5)\n",
        "\n",
        "# Graficamos los resultados\n",
        "plot_results(t_values_a, y_values_a, 'a) Solución para y\\' = t  - 2y')"
      ],
      "metadata": {
        "colab": {
          "base_uri": "https://localhost:8080/",
          "height": 472
        },
        "id": "Ob43KjA9LmZE",
        "outputId": "74abda5c-e33e-427e-e3a4-a2292683a53b"
      },
      "execution_count": 86,
      "outputs": [
        {
          "output_type": "display_data",
          "data": {
            "text/plain": [
              "<Figure size 640x480 with 1 Axes>"
            ],
            "image/png": "[encoded data removed]"
          },
          "metadata": {}
        }
      ]
    }
  ]
}